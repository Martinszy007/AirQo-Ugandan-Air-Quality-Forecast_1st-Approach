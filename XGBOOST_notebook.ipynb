{
  "nbformat": 4,
  "nbformat_minor": 0,
  "metadata": {
    "kernelspec": {
      "display_name": "Python 3",
      "language": "python",
      "name": "python3"
    },
    "language_info": {
      "codemirror_mode": {
        "name": "ipython",
        "version": 3
      },
      "file_extension": ".py",
      "mimetype": "text/x-python",
      "name": "python",
      "nbconvert_exporter": "python",
      "pygments_lexer": "ipython3",
      "version": "3.6.8"
    },
    "colab": {
      "name": "XGBOOST_.ipynb",
      "provenance": [],
      "collapsed_sections": [],
      "include_colab_link": true
    },
    "accelerator": "GPU"
  },
  "cells": [
    {
      "cell_type": "markdown",
      "metadata": {
        "id": "view-in-github",
        "colab_type": "text"
      },
      "source": [
        "<a href=\"https://colab.research.google.com/github/Az-Ks/AirQo-Ugandan-Air-Quality-Forecast/blob/master/XGBOOST_notebook.ipynb\" target=\"_parent\"><img src=\"https://colab.research.google.com/assets/colab-badge.svg\" alt=\"Open In Colab\"/></a>"
      ]
    },
    {
      "cell_type": "markdown",
      "metadata": {
        "id": "ZbVtKR2DolJZ",
        "colab_type": "text"
      },
      "source": [
        "## **PLEASE CHENGE YOUR RUNTIME TYPE TO GPU **"
      ]
    },
    {
      "cell_type": "code",
      "metadata": {
        "id": "lygrd_4THhsP",
        "colab_type": "code",
        "colab": {}
      },
      "source": [
        "import pandas as pd \n",
        "import numpy as np \n",
        "from tqdm import tqdm\n",
        "import math\n",
        "import gc"
      ],
      "execution_count": 0,
      "outputs": []
    },
    {
      "cell_type": "code",
      "metadata": {
        "id": "QDbr-4b3nuGb",
        "colab_type": "code",
        "colab": {}
      },
      "source": [
        "from google.colab import drive\n",
        "drive.mount('/content/drive')"
      ],
      "execution_count": 0,
      "outputs": []
    },
    {
      "cell_type": "code",
      "metadata": {
        "id": "ZZF7jjBgnuJa",
        "colab_type": "code",
        "colab": {}
      },
      "source": [
        "path =  '/content/drive/My Drive/'"
      ],
      "execution_count": 0,
      "outputs": []
    },
    {
      "cell_type": "code",
      "metadata": {
        "id": "tRthNH90Hhsa",
        "colab_type": "code",
        "colab": {}
      },
      "source": [
        "train=pd.read_csv(\"/content/drive/My Drive/Train (14).csv\")\n",
        "test=pd.read_csv(\"/content/drive/My Drive/Test (8).csv\")"
      ],
      "execution_count": 0,
      "outputs": []
    },
    {
      "cell_type": "markdown",
      "metadata": {
        "id": "mApRDmFGHhsz",
        "colab_type": "text"
      },
      "source": [
        "### Features engineering part"
      ]
    },
    {
      "cell_type": "code",
      "metadata": {
        "id": "7lskkR2rHhss",
        "colab_type": "code",
        "colab": {}
      },
      "source": [
        "# covert features  fron string to List of values \n",
        "def replace_nan(x):\n",
        "    if x==\" \":\n",
        "        return np.nan\n",
        "    else :\n",
        "        return float(x)\n",
        "features=[\"temp\",\"precip\",\"rel_humidity\",\"wind_dir\",\"wind_spd\",\"atmos_press\"]\n",
        "for feature in features : \n",
        "    train[feature]=train[feature].apply(lambda x: [ replace_nan(X) for X in x.replace(\"nan\",\" \").split(\",\")])\n",
        "    test[feature]=test[feature].apply(lambda x: [ replace_nan(X)  for X in x.replace(\"nan\",\" \").split(\",\")])    "
      ],
      "execution_count": 0,
      "outputs": []
    },
    {
      "cell_type": "code",
      "metadata": {
        "id": "sg8-zujFHhs1",
        "colab_type": "code",
        "colab": {}
      },
      "source": [
        "def aggregate_features(x,col_name):\n",
        "    x[\"max_\"+col_name]=x[col_name].apply(np.max)\n",
        "    x[\"min_\"+col_name]=x[col_name].apply(np.min)\n",
        "    x[\"mean_\"+col_name]=x[col_name].apply(np.mean)\n",
        "    x[\"std_\"+col_name]=x[col_name].apply(np.std)\n",
        "    #x[\"var_\"+col_name]=x[col_name].apply(np.var)\n",
        "    x[\"sum_\"+col_name]=x[col_name].apply(np.sum)\n",
        "    x[\"ptp_\"+col_name]=x[col_name].apply(np.ptp)\n",
        "    return x  \n",
        "def remove_nan_values(x):\n",
        "    return [e for e in x if not math.isnan(e)]"
      ],
      "execution_count": 0,
      "outputs": []
    },
    {
      "cell_type": "code",
      "metadata": {
        "id": "jSHXJxduHhs6",
        "colab_type": "code",
        "outputId": "6acc98a4-5bdd-480f-fa0a-19bb8d5d406c",
        "colab": {
          "base_uri": "https://localhost:8080/",
          "height": 170
        }
      },
      "source": [
        "data=pd.concat([train,test],sort=False).reset_index(drop=True)\n",
        "data.columns.tolist()"
      ],
      "execution_count": 0,
      "outputs": [
        {
          "output_type": "execute_result",
          "data": {
            "text/plain": [
              "['ID',\n",
              " 'location',\n",
              " 'temp',\n",
              " 'precip',\n",
              " 'rel_humidity',\n",
              " 'wind_dir',\n",
              " 'wind_spd',\n",
              " 'atmos_press',\n",
              " 'target']"
            ]
          },
          "metadata": {
            "tags": []
          },
          "execution_count": 60
        }
      ]
    },
    {
      "cell_type": "code",
      "metadata": {
        "id": "K4xhuB8H3Wwb",
        "colab_type": "code",
        "colab": {}
      },
      "source": [
        "for x in range(121):\n",
        "    data[\"newtemp\"+ str(x)] = data.temp.str[x]\n",
        "    data[\"newprecip\"+ str(x)] = data.precip.str[x]\n",
        "    data[\"newrel_humidity\"+ str(x)] = data.rel_humidity.str[x]\n",
        "    data[\"newwind_dir\"+ str(x)] = data.wind_dir.str[x]\n",
        "    data[\"windspeed\"+ str(x)] = data.wind_spd.str[x]\n",
        "    data[\"atmospherepressure\"+ str(x)] = data.atmos_press.str[x]"
      ],
      "execution_count": 0,
      "outputs": []
    },
    {
      "cell_type": "code",
      "metadata": {
        "id": "1dYviSGeHhs_",
        "colab_type": "code",
        "outputId": "410c532d-f019-4c35-fe11-191f48aa8641",
        "colab": {
          "base_uri": "https://localhost:8080/",
          "height": 34
        }
      },
      "source": [
        "data.shape"
      ],
      "execution_count": 0,
      "outputs": [
        {
          "output_type": "execute_result",
          "data": {
            "text/plain": [
              "(20574, 735)"
            ]
          },
          "metadata": {
            "tags": []
          },
          "execution_count": 62
        }
      ]
    },
    {
      "cell_type": "code",
      "metadata": {
        "id": "tROUcB5p6esB",
        "colab_type": "code",
        "outputId": "497fd88b-da88-4aa0-e363-ee3fb0b97277",
        "colab": {
          "base_uri": "https://localhost:8080/",
          "height": 34
        }
      },
      "source": [
        "len(data.precip[1])"
      ],
      "execution_count": 0,
      "outputs": [
        {
          "output_type": "execute_result",
          "data": {
            "text/plain": [
              "121"
            ]
          },
          "metadata": {
            "tags": []
          },
          "execution_count": 63
        }
      ]
    },
    {
      "cell_type": "code",
      "metadata": {
        "id": "cNcORQK-HhtG",
        "colab_type": "code",
        "outputId": "6407285c-9708-4cb5-f226-46c83fefc96f",
        "colab": {
          "base_uri": "https://localhost:8080/",
          "height": 34
        }
      },
      "source": [
        "for col_name in tqdm(features):\n",
        "    data[col_name]=data[col_name].apply(remove_nan_values)"
      ],
      "execution_count": 0,
      "outputs": [
        {
          "output_type": "stream",
          "text": [
            "100%|██████████| 6/6 [00:02<00:00,  2.45it/s]\n"
          ],
          "name": "stderr"
        }
      ]
    },
    {
      "cell_type": "code",
      "metadata": {
        "id": "K9iStUBEHhtO",
        "colab_type": "code",
        "outputId": "d81d1df4-a973-4d50-933b-50197a69cc6c",
        "colab": {
          "base_uri": "https://localhost:8080/",
          "height": 34
        }
      },
      "source": [
        "for col_name in tqdm(features):\n",
        "    data=aggregate_features(data,col_name)"
      ],
      "execution_count": 0,
      "outputs": [
        {
          "output_type": "stream",
          "text": [
            "100%|██████████| 6/6 [00:14<00:00,  2.45s/it]\n"
          ],
          "name": "stderr"
        }
      ]
    },
    {
      "cell_type": "code",
      "metadata": {
        "id": "aiAM7WA3HhtR",
        "colab_type": "code",
        "colab": {}
      },
      "source": [
        "data.drop(features,1,inplace=True)"
      ],
      "execution_count": 0,
      "outputs": []
    },
    {
      "cell_type": "code",
      "metadata": {
        "id": "aG-kLSttrM41",
        "colab_type": "code",
        "colab": {}
      },
      "source": [
        "hum_features =  list(data.filter(regex='rel_humidity.*').columns)\n",
        "temp_features = list( data.filter(regex='newtemp.*').columns)  \n",
        "precip_features =  list(data.filter(regex='newprecip*').columns)\n",
        "winddir_features = list( data.filter(regex='newwind_dir.*').columns)\n",
        "windspead_features = list( data.filter(regex='windspeed.*').columns)\n",
        "atm_features =  list(data.filter(regex='atmos.*').columns)\n",
        "\n",
        "\n",
        "\n",
        "\n",
        "hum_features= hum_features[36:]\n",
        "temp_features=temp_features[36:] \n",
        "precip_features=precip_features[31:]\n",
        "winddir_features=winddir_features[36:]\n",
        "windspead_features=windspead_features[36:]\n",
        "atm_features=atm_features[36:]\n",
        "\n",
        "\n",
        "\n",
        "\n",
        "\n",
        "data[hum_features]= data[hum_features].apply(lambda x: x.fillna(x.mean()),axis=1)\n",
        "\n",
        "\n",
        "\n",
        "data[temp_features]= data[temp_features].apply(lambda x: x.fillna(x.mean()),axis=1)\n",
        "\n",
        "\n",
        "data[precip_features]= data[precip_features].apply(lambda x: x.fillna(float(0.0)),axis=1)\n",
        "\n",
        "\n",
        "\n",
        "data[winddir_features]= data[winddir_features].apply(lambda x: x.fillna(x.mean()),axis=1)\n",
        "\n",
        "\n",
        "\n",
        "data[windspead_features]= data[windspead_features].apply(lambda x: x.fillna(x.mean()),axis=1)\n",
        "\n",
        "\n",
        "\n",
        "\n",
        "data[atm_features]= data[atm_features].apply(lambda x: x.fillna(x.mean()),axis=1)\n"
      ],
      "execution_count": 0,
      "outputs": []
    },
    {
      "cell_type": "code",
      "metadata": {
        "id": "b-inscoEHhtU",
        "colab_type": "code",
        "colab": {}
      },
      "source": [
        "train=data[data.target.notnull()].reset_index(drop=True)\n",
        "test=data[data.target.isna()].reset_index(drop=True)"
      ],
      "execution_count": 0,
      "outputs": []
    },
    {
      "cell_type": "code",
      "metadata": {
        "id": "fS2h1hJcaASK",
        "colab_type": "code",
        "outputId": "63cf9ce6-6cf1-4b74-b36d-e0769a2df411",
        "colab": {
          "base_uri": "https://localhost:8080/",
          "height": 34
        }
      },
      "source": [
        "train.shape,test.shape"
      ],
      "execution_count": 0,
      "outputs": [
        {
          "output_type": "execute_result",
          "data": {
            "text/plain": [
              "((15539, 765), (5035, 765))"
            ]
          },
          "metadata": {
            "tags": []
          },
          "execution_count": 69
        }
      ]
    },
    {
      "cell_type": "markdown",
      "metadata": {
        "id": "mWcrHrV5CSPx",
        "colab_type": "text"
      },
      "source": [
        "###end of la3b"
      ]
    },
    {
      "cell_type": "code",
      "metadata": {
        "id": "EjI-PlKfvJno",
        "colab_type": "code",
        "colab": {}
      },
      "source": [
        "import pandas as pd\n",
        "import numpy as np\n",
        "import matplotlib.pyplot as plt\n",
        "import seaborn as sns\n",
        "import warnings\n",
        "warnings.filterwarnings('ignore')\n",
        "\n",
        "from math import sqrt \n",
        "import lightgbm as lgb\n",
        "from sklearn.metrics import mean_squared_error \n",
        "from sklearn.model_selection import KFold, train_test_split\n",
        "import requests\n",
        "from io import StringIO \n",
        "%matplotlib inline\n",
        "pd.set_option(\"display.max_rows\", 100)\n",
        "pd.set_option(\"display.max_columns\", 100)\n",
        "import numpy as np\n",
        "import matplotlib.pyplot as plt\n",
        "import seaborn as sns\n",
        "import warnings\n",
        "warnings.filterwarnings('ignore')\n",
        "\n",
        "from math import sqrt \n",
        "import lightgbm as lgb\n",
        "from sklearn.metrics import mean_squared_error \n",
        "from sklearn.model_selection import KFold, train_test_split\n",
        "import requests\n",
        "from io import StringIO \n",
        "%matplotlib inline\n",
        "pd.set_option(\"display.max_rows\", 100)\n",
        "pd.set_option(\"display.max_columns\", 100)"
      ],
      "execution_count": 0,
      "outputs": []
    },
    {
      "cell_type": "code",
      "metadata": {
        "id": "hs2TN42eqkR6",
        "colab_type": "code",
        "outputId": "28ad2dd0-e4d3-4c36-e19a-f7de3d8c3db1",
        "colab": {
          "base_uri": "https://localhost:8080/",
          "height": 34
        }
      },
      "source": [
        "test.drop(\"target\",axis  = 1,inplace  = True)\n",
        "train.shape,test.shape"
      ],
      "execution_count": 0,
      "outputs": [
        {
          "output_type": "execute_result",
          "data": {
            "text/plain": [
              "((15539, 765), (5035, 764))"
            ]
          },
          "metadata": {
            "tags": []
          },
          "execution_count": 71
        }
      ]
    },
    {
      "cell_type": "code",
      "metadata": {
        "id": "TyT7Uu02rEDg",
        "colab_type": "code",
        "outputId": "4a027e7a-25ca-4afd-ab36-25077b690a38",
        "colab": {
          "base_uri": "https://localhost:8080/",
          "height": 34
        }
      },
      "source": [
        "from sklearn.preprocessing import LabelEncoder\n",
        "lab  = LabelEncoder()\n",
        "lab.fit(train[\"location\"])\n",
        "train.location  = lab.transform(train.location)\n",
        "test.location  = lab.transform(test.location)\n",
        "train.target.min(),train.target.max()"
      ],
      "execution_count": 0,
      "outputs": [
        {
          "output_type": "execute_result",
          "data": {
            "text/plain": [
              "(1.4526190476190477, 475.82)"
            ]
          },
          "metadata": {
            "tags": []
          },
          "execution_count": 72
        }
      ]
    },
    {
      "cell_type": "code",
      "metadata": {
        "id": "xEBTcrsTrD_s",
        "colab_type": "code",
        "colab": {}
      },
      "source": [
        "X=train.drop([\"ID\",'target'],axis =1)\n",
        "y = train.target\n",
        "test_id  = test['ID']"
      ],
      "execution_count": 0,
      "outputs": []
    },
    {
      "cell_type": "code",
      "metadata": {
        "id": "KKciRChkkgGR",
        "colab_type": "code",
        "colab": {}
      },
      "source": [
        "from sklearn.cluster import KMeans\n",
        "X=X.fillna(-9999)\n",
        "\n",
        "kmeans = KMeans(n_clusters=6).fit(X)\n",
        "X['cluster']=kmeans.predict(X)\n",
        "test=test.fillna(-9999)\n",
        "test['cluster']=kmeans.predict(test.drop([\"ID\"],axis = 1))\n",
        "\n",
        "\n"
      ],
      "execution_count": 0,
      "outputs": []
    },
    {
      "cell_type": "code",
      "metadata": {
        "id": "OS2hPCB3kgN6",
        "colab_type": "code",
        "colab": {}
      },
      "source": [
        "air_temperature_filler = pd.DataFrame(X.groupby(['location','mean_wind_dir'])['mean_temp'].mean())\n",
        "X['mean temp per month']=0\n",
        "for i in range (len(X)):\n",
        "  \n",
        "  X['mean temp per month'][i]=air_temperature_filler.loc[(X['location'][i],X['mean_wind_dir'][i]), :]\n",
        "\n",
        "air_temperature_filler = pd.DataFrame(test.groupby(['location','mean_wind_dir'])['mean_temp'].mean())\n",
        "\n",
        "test['mean temp per month']=0\n",
        "for i in range (len(test)):\n",
        "  \n",
        "  test['mean temp per month'][i]=air_temperature_filler.loc[(test['location'][i],test['mean_wind_dir'][i]), :]"
      ],
      "execution_count": 0,
      "outputs": []
    },
    {
      "cell_type": "code",
      "metadata": {
        "id": "N2ciDCovkgVu",
        "colab_type": "code",
        "colab": {}
      },
      "source": [
        "p0=['newtemp0', 'newprecip0', 'newrel_humidity0', 'newwind_dir0',\n",
        "       'windspeed0', 'atmospherepressure0']\n",
        "p4=['newtemp30', 'newprecip30', 'newrel_humidity30', 'newwind_dir30',\n",
        "       'windspeed30', 'atmospherepressure30']         \n",
        "p1=['newtemp60', 'newprecip60', 'newrel_humidity60', 'newwind_dir60',\n",
        "       'windspeed60', 'atmospherepressure60']  \n",
        "p2=['newtemp90', 'newprecip90', 'newrel_humidity90', 'newwind_dir90',\n",
        "       'windspeed90', 'atmospherepressure90']       \n",
        "p3=['newtemp120', 'newprecip120', 'newrel_humidity120', 'newwind_dir120',\n",
        "       'windspeed120', 'atmospherepressure120'] \n",
        "from sklearn.decomposition import PCA, FastICA\n",
        "pca = PCA(random_state=42,n_components=1)\n",
        "train_pca = pca.fit_transform(X[p0])\n",
        "X['pca_0'] = train_pca[:,0]\n",
        "test_pca = pca.fit_transform(test[p0])\n",
        "test['pca_0'] = test_pca[:,0]\n",
        "train_pca = pca.fit_transform(X[p1])\n",
        "X['pca_1'] = train_pca[:,0]\n",
        "test_pca = pca.fit_transform(test[p1])\n",
        "test['pca_1'] = test_pca[:,0]\n",
        "train_pca = pca.fit_transform(X[p2])\n",
        "X['pca_2'] = train_pca[:,0]\n",
        "test_pca = pca.fit_transform(test[p2])\n",
        "test['pca_2'] = test_pca[:,0]\n",
        "\n",
        "train_pca = pca.fit_transform(X[p3])\n",
        "X['pca_3'] = train_pca[:,0]\n",
        "test_pca = pca.fit_transform(test[p3])\n",
        "test['pca_3'] = test_pca[:,0]\n",
        "\n",
        "train_pca = pca.fit_transform(X[p4])\n",
        "X['pca_4'] = train_pca[:,0]\n",
        "test_pca = pca.fit_transform(test[p4])\n",
        "test['pca_4'] = test_pca[:,0]\n",
        "\n",
        "test=test.drop(columns=['pca_2','pca_4'])\n",
        "X=X.drop(columns=['pca_4','pca_2'])"
      ],
      "execution_count": 0,
      "outputs": []
    },
    {
      "cell_type": "code",
      "metadata": {
        "id": "9Ju_Y7wQkgTJ",
        "colab_type": "code",
        "colab": {}
      },
      "source": [
        "X=X.drop(columns=['newtemp105', 'newprecip105', 'newrel_humidity105', 'newwind_dir105',\n",
        "       'windspeed105', 'atmospherepressure105','newtemp9', 'newprecip9', 'newrel_humidity9', 'newwind_dir9',\n",
        "       'windspeed9', 'atmospherepressure9'])\n",
        "test=test.drop(columns=['newtemp105', 'newprecip105', 'newrel_humidity105', 'newwind_dir105',\n",
        "       'windspeed105', 'atmospherepressure105','newtemp9', 'newprecip9', 'newrel_humidity9', 'newwind_dir9',\n",
        "       'windspeed9', 'atmospherepressure9']) "
      ],
      "execution_count": 0,
      "outputs": []
    },
    {
      "cell_type": "markdown",
      "metadata": {
        "id": "gSK7Goien71V",
        "colab_type": "text"
      },
      "source": [
        "## **hana & and hanat are the data generated by arima ** \n",
        "## PLEASE CHECK THAT YOU'VE UPLOAD IT "
      ]
    },
    {
      "cell_type": "code",
      "metadata": {
        "id": "9PxHJ_n7eSiI",
        "colab_type": "code",
        "colab": {}
      },
      "source": [
        "hana=pd.read_csv('/content/winddirforecasttrain ADD THOSE COLUMNS TO TRAIN.csv')"
      ],
      "execution_count": 0,
      "outputs": []
    },
    {
      "cell_type": "code",
      "metadata": {
        "id": "oSm55maceSu6",
        "colab_type": "code",
        "colab": {}
      },
      "source": [
        "hanat=pd.read_csv('/content/winddirforecasttest ADD THOSE FEATURES TO TEST.csv')"
      ],
      "execution_count": 0,
      "outputs": []
    },
    {
      "cell_type": "code",
      "metadata": {
        "id": "ApLZ3O8lfLHE",
        "colab_type": "code",
        "outputId": "ef927c34-7793-4f7d-917a-c97463d50a0b",
        "colab": {
          "base_uri": "https://localhost:8080/",
          "height": 224
        }
      },
      "source": [
        "hanat.head()"
      ],
      "execution_count": 0,
      "outputs": [
        {
          "output_type": "execute_result",
          "data": {
            "text/html": [
              "<div>\n",
              "<style scoped>\n",
              "    .dataframe tbody tr th:only-of-type {\n",
              "        vertical-align: middle;\n",
              "    }\n",
              "\n",
              "    .dataframe tbody tr th {\n",
              "        vertical-align: top;\n",
              "    }\n",
              "\n",
              "    .dataframe thead th {\n",
              "        text-align: right;\n",
              "    }\n",
              "</style>\n",
              "<table border=\"1\" class=\"dataframe\">\n",
              "  <thead>\n",
              "    <tr style=\"text-align: right;\">\n",
              "      <th></th>\n",
              "      <th>0</th>\n",
              "      <th>1</th>\n",
              "      <th>2</th>\n",
              "      <th>3</th>\n",
              "      <th>4</th>\n",
              "      <th>5</th>\n",
              "      <th>6</th>\n",
              "      <th>7</th>\n",
              "      <th>8</th>\n",
              "      <th>9</th>\n",
              "      <th>10</th>\n",
              "      <th>11</th>\n",
              "      <th>12</th>\n",
              "      <th>13</th>\n",
              "      <th>14</th>\n",
              "      <th>15</th>\n",
              "      <th>16</th>\n",
              "      <th>17</th>\n",
              "    </tr>\n",
              "  </thead>\n",
              "  <tbody>\n",
              "    <tr>\n",
              "      <th>0</th>\n",
              "      <td>197.250658</td>\n",
              "      <td>212.394441</td>\n",
              "      <td>219.223270</td>\n",
              "      <td>222.302612</td>\n",
              "      <td>223.691189</td>\n",
              "      <td>224.317343</td>\n",
              "      <td>224.599697</td>\n",
              "      <td>224.727019</td>\n",
              "      <td>224.784433</td>\n",
              "      <td>224.810323</td>\n",
              "      <td>224.821998</td>\n",
              "      <td>224.827262</td>\n",
              "      <td>224.829636</td>\n",
              "      <td>224.830707</td>\n",
              "      <td>224.831189</td>\n",
              "      <td>224.831407</td>\n",
              "      <td>224.831505</td>\n",
              "      <td>224.831549</td>\n",
              "    </tr>\n",
              "    <tr>\n",
              "      <th>1</th>\n",
              "      <td>146.588427</td>\n",
              "      <td>165.851197</td>\n",
              "      <td>176.443787</td>\n",
              "      <td>182.268648</td>\n",
              "      <td>185.471737</td>\n",
              "      <td>187.233115</td>\n",
              "      <td>188.201695</td>\n",
              "      <td>188.734318</td>\n",
              "      <td>189.027206</td>\n",
              "      <td>189.188266</td>\n",
              "      <td>189.276832</td>\n",
              "      <td>189.325535</td>\n",
              "      <td>189.352316</td>\n",
              "      <td>189.367044</td>\n",
              "      <td>189.375142</td>\n",
              "      <td>189.379595</td>\n",
              "      <td>189.382044</td>\n",
              "      <td>189.383391</td>\n",
              "    </tr>\n",
              "    <tr>\n",
              "      <th>2</th>\n",
              "      <td>165.153288</td>\n",
              "      <td>165.153288</td>\n",
              "      <td>165.153288</td>\n",
              "      <td>165.153288</td>\n",
              "      <td>165.153288</td>\n",
              "      <td>165.153288</td>\n",
              "      <td>165.153288</td>\n",
              "      <td>165.153288</td>\n",
              "      <td>165.153288</td>\n",
              "      <td>165.153288</td>\n",
              "      <td>165.153288</td>\n",
              "      <td>165.153288</td>\n",
              "      <td>165.153288</td>\n",
              "      <td>165.153288</td>\n",
              "      <td>165.153288</td>\n",
              "      <td>165.153288</td>\n",
              "      <td>165.153288</td>\n",
              "      <td>165.153288</td>\n",
              "    </tr>\n",
              "    <tr>\n",
              "      <th>3</th>\n",
              "      <td>268.745697</td>\n",
              "      <td>236.704786</td>\n",
              "      <td>220.128369</td>\n",
              "      <td>211.552532</td>\n",
              "      <td>207.115808</td>\n",
              "      <td>204.820462</td>\n",
              "      <td>203.632961</td>\n",
              "      <td>203.018605</td>\n",
              "      <td>202.700768</td>\n",
              "      <td>202.536334</td>\n",
              "      <td>202.451263</td>\n",
              "      <td>202.407252</td>\n",
              "      <td>202.384483</td>\n",
              "      <td>202.372703</td>\n",
              "      <td>202.366609</td>\n",
              "      <td>202.363456</td>\n",
              "      <td>202.361825</td>\n",
              "      <td>202.360981</td>\n",
              "    </tr>\n",
              "    <tr>\n",
              "      <th>4</th>\n",
              "      <td>185.847258</td>\n",
              "      <td>185.847258</td>\n",
              "      <td>185.847258</td>\n",
              "      <td>185.847258</td>\n",
              "      <td>185.847258</td>\n",
              "      <td>185.847258</td>\n",
              "      <td>185.847258</td>\n",
              "      <td>185.847258</td>\n",
              "      <td>185.847258</td>\n",
              "      <td>185.847258</td>\n",
              "      <td>185.847258</td>\n",
              "      <td>185.847258</td>\n",
              "      <td>185.847258</td>\n",
              "      <td>185.847258</td>\n",
              "      <td>185.847258</td>\n",
              "      <td>185.847258</td>\n",
              "      <td>185.847258</td>\n",
              "      <td>185.847258</td>\n",
              "    </tr>\n",
              "  </tbody>\n",
              "</table>\n",
              "</div>"
            ],
            "text/plain": [
              "            0           1           2           3           4           5  \\\n",
              "0  197.250658  212.394441  219.223270  222.302612  223.691189  224.317343   \n",
              "1  146.588427  165.851197  176.443787  182.268648  185.471737  187.233115   \n",
              "2  165.153288  165.153288  165.153288  165.153288  165.153288  165.153288   \n",
              "3  268.745697  236.704786  220.128369  211.552532  207.115808  204.820462   \n",
              "4  185.847258  185.847258  185.847258  185.847258  185.847258  185.847258   \n",
              "\n",
              "            6           7           8           9          10          11  \\\n",
              "0  224.599697  224.727019  224.784433  224.810323  224.821998  224.827262   \n",
              "1  188.201695  188.734318  189.027206  189.188266  189.276832  189.325535   \n",
              "2  165.153288  165.153288  165.153288  165.153288  165.153288  165.153288   \n",
              "3  203.632961  203.018605  202.700768  202.536334  202.451263  202.407252   \n",
              "4  185.847258  185.847258  185.847258  185.847258  185.847258  185.847258   \n",
              "\n",
              "           12          13          14          15          16          17  \n",
              "0  224.829636  224.830707  224.831189  224.831407  224.831505  224.831549  \n",
              "1  189.352316  189.367044  189.375142  189.379595  189.382044  189.383391  \n",
              "2  165.153288  165.153288  165.153288  165.153288  165.153288  165.153288  \n",
              "3  202.384483  202.372703  202.366609  202.363456  202.361825  202.360981  \n",
              "4  185.847258  185.847258  185.847258  185.847258  185.847258  185.847258  "
            ]
          },
          "metadata": {
            "tags": []
          },
          "execution_count": 80
        }
      ]
    },
    {
      "cell_type": "code",
      "metadata": {
        "id": "YjqMLxIBiXc7",
        "colab_type": "code",
        "colab": {}
      },
      "source": [
        "for i in hana.columns :\n",
        "  X[i]=hana[i]\n",
        "for i in hanat :\n",
        "  test[i]=hanat[i]"
      ],
      "execution_count": 0,
      "outputs": []
    },
    {
      "cell_type": "code",
      "metadata": {
        "id": "bEZT2dUUinEj",
        "colab_type": "code",
        "outputId": "9f596bb0-b364-4cd9-8327-82185537eb14",
        "colab": {
          "base_uri": "https://localhost:8080/",
          "height": 34
        }
      },
      "source": [
        "X.shape,test.shape"
      ],
      "execution_count": 0,
      "outputs": [
        {
          "output_type": "execute_result",
          "data": {
            "text/plain": [
              "((15539, 774), (5035, 775))"
            ]
          },
          "metadata": {
            "tags": []
          },
          "execution_count": 82
        }
      ]
    },
    {
      "cell_type": "code",
      "metadata": {
        "id": "Vuv40f3DJOes",
        "colab_type": "code",
        "colab": {}
      },
      "source": [
        "import xgboost as xgb\n",
        "\n",
        "params = {\n",
        "            'gpu_id': 0, \n",
        "            #'n_gpus': 2, \n",
        "            'objective': 'reg:squarederror', \n",
        "            'eval_metric': 'rmse', \n",
        "             \n",
        "            'booster': 'gbtree', \n",
        "            \n",
        "            'n_estimators': 10000, \n",
        "            'tree_method': 'gpu_hist', \n",
        "            'grow_policy': 'lossguide', \n",
        "            'max_depth': 8, \n",
        "            \n",
        "             \n",
        "            \n",
        "            'learning_rate': 0.01, \n",
        "            'max_bin': 200, \n",
        "            'max_leaves': 200, \n",
        "            \n",
        "            'reg_alpha': 10, \n",
        "            'reg_lambda': 50, \n",
        "            'subsample': 0.9 ,\n",
        "          }\n",
        "model = xgb.XGBRegressor(**params)"
      ],
      "execution_count": 0,
      "outputs": []
    },
    {
      "cell_type": "code",
      "metadata": {
        "id": "MBcQ1gQXzA_c",
        "colab_type": "code",
        "outputId": "de37b93e-f15e-4bda-8e69-7ad74ef11e78",
        "colab": {
          "base_uri": "https://localhost:8080/",
          "height": 170
        }
      },
      "source": [
        "model.fit(X,y)"
      ],
      "execution_count": 0,
      "outputs": [
        {
          "output_type": "execute_result",
          "data": {
            "text/plain": [
              "XGBRegressor(base_score=0.5, booster='gbtree', colsample_bylevel=1,\n",
              "             colsample_bynode=1, colsample_bytree=1, eval_metric='rmse',\n",
              "             gamma=0, gpu_id=0, grow_policy='lossguide', importance_type='gain',\n",
              "             learning_rate=0.01, max_bin=200, max_delta_step=0, max_depth=8,\n",
              "             max_leaves=200, min_child_weight=1, missing=None,\n",
              "             n_estimators=10000, n_jobs=1, nthread=None,\n",
              "             objective='reg:squarederror', random_state=0, reg_alpha=10,\n",
              "             reg_lambda=50, scale_pos_weight=1, seed=None, silent=None,\n",
              "             subsample=0.9, tree_method='gpu_hist', verbosity=1)"
            ]
          },
          "metadata": {
            "tags": []
          },
          "execution_count": 84
        }
      ]
    },
    {
      "cell_type": "code",
      "metadata": {
        "id": "dnNV6t7azZ81",
        "colab_type": "code",
        "colab": {}
      },
      "source": [
        "pp=model.predict(test.drop([\"ID\"],axis = 1))"
      ],
      "execution_count": 0,
      "outputs": []
    },
    {
      "cell_type": "code",
      "metadata": {
        "id": "DU4h2FgiLaOB",
        "colab_type": "code",
        "outputId": "0cafd63b-638a-422d-a9d7-0aa9615437f6",
        "colab": {
          "base_uri": "https://localhost:8080/",
          "height": 34
        }
      },
      "source": [
        "d = {'ID': test_id, 'target': pp}\n",
        "subxgb = pd.DataFrame(data=d)\n",
        "subxgb = subxgb[['ID', 'target']]\n",
        "subxgb.target.min(),subxgb.target.max()"
      ],
      "execution_count": 0,
      "outputs": [
        {
          "output_type": "execute_result",
          "data": {
            "text/plain": [
              "(15.86525821685791, 238.6833038330078)"
            ]
          },
          "metadata": {
            "tags": []
          },
          "execution_count": 86
        }
      ]
    },
    {
      "cell_type": "code",
      "metadata": {
        "id": "TOCcTSqULg4_",
        "colab_type": "code",
        "colab": {}
      },
      "source": [
        "subxgb.to_csv('subxgb.csv',index=False)\n",
        "from google.colab import files\n",
        "files.download(\"subxgb.csv\")"
      ],
      "execution_count": 0,
      "outputs": []
    }
  ]
}