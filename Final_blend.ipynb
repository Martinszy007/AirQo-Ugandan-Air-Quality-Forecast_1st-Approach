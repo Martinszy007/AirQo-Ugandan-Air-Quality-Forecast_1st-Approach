{
  "nbformat": 4,
  "nbformat_minor": 0,
  "metadata": {
    "colab": {
      "name": "Final_blend.ipynb",
      "provenance": [],
      "include_colab_link": true
    },
    "kernelspec": {
      "name": "python3",
      "display_name": "Python 3"
    }
  },
  "cells": [
    {
      "cell_type": "markdown",
      "metadata": {
        "id": "view-in-github",
        "colab_type": "text"
      },
      "source": [
        "<a href=\"https://colab.research.google.com/github/Az-Ks/AirQo-Ugandan-Air-Quality-Forecast/blob/master/Final_blend.ipynb\" target=\"_parent\"><img src=\"https://colab.research.google.com/assets/colab-badge.svg\" alt=\"Open In Colab\"/></a>"
      ]
    },
    {
      "cell_type": "markdown",
      "metadata": {
        "id": "24e_LkQNwtip",
        "colab_type": "text"
      },
      "source": [
        "FIRST BLEND"
      ]
    },
    {
      "cell_type": "code",
      "metadata": {
        "id": "m1VpWdXKvMih",
        "colab_type": "code",
        "colab": {}
      },
      "source": [
        "import pandas as pd \n",
        "\n",
        "\n",
        "submission1 = pd.read_csv('submission1.csv')\n",
        "sub_xgb = pd.read_csv('subxgb.csv')\n",
        "\n",
        "submission_  = submission1.copy()\n",
        "\n",
        "submission_['target'] = sub_xgb['target']*0.3  + submission1['target']*0.7"
      ],
      "execution_count": 1,
      "outputs": []
    },
    {
      "cell_type": "markdown",
      "metadata": {
        "id": "lT0xCG7pwxcW",
        "colab_type": "text"
      },
      "source": [
        "**SECOND BLEND**"
      ]
    },
    {
      "cell_type": "code",
      "metadata": {
        "id": "dNTJwhfbw3ZH",
        "colab_type": "code",
        "colab": {}
      },
      "source": [
        "submission2 =pd.read_csv('submission2.csv')\n",
        "\n",
        "comb1['target'] = submission_['target']*0.5  + submission2['target']*0.5"
      ],
      "execution_count": 7,
      "outputs": []
    },
    {
      "cell_type": "markdown",
      "metadata": {
        "id": "zhJJ5yA6xbsW",
        "colab_type": "text"
      },
      "source": [
        "**FINAL BLEND BLEND**"
      ]
    },
    {
      "cell_type": "code",
      "metadata": {
        "id": "UDXHuUPexfV4",
        "colab_type": "code",
        "colab": {}
      },
      "source": [
        "#comb1 * 0.4288 + indianda * 0.1072 + liyjib37.07lgb * 0.264 + 0.2 * ekher mouhawla\n",
        "\n",
        "\n",
        "indiana =pd.read_csv('indiana.csv')\n",
        "another_lgb = pd.read_csv('ANOTHERLGB.csv')\n",
        "ekher_mou7awla =pd.read_csv('ekher_mou7awla.csv')\n",
        "\n",
        "\n",
        "\n",
        "sub_finale= indiana.copy()\n",
        "\n",
        "sub_finale['target'] = comb1['target']*0.4288  + indiana['target']*0.1072  + another_lgb['target']* 0.264  + ekher_mou7awla['target']*0.2"
      ],
      "execution_count": 9,
      "outputs": []
    },
    {
      "cell_type": "code",
      "metadata": {
        "id": "e0vbG9Ez0bmI",
        "colab_type": "code",
        "colab": {}
      },
      "source": [
        "sub_finale.to_csv('sub_finale.csv',index=False)"
      ],
      "execution_count": 10,
      "outputs": []
    },
    {
      "cell_type": "code",
      "metadata": {
        "id": "O48UkdYhYWA3",
        "colab_type": "code",
        "colab": {}
      },
      "source": [
        ""
      ],
      "execution_count": null,
      "outputs": []
    }
  ]
}