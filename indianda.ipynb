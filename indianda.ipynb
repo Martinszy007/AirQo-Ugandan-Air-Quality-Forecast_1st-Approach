{
  "nbformat": 4,
  "nbformat_minor": 0,
  "metadata": {
    "kernelspec": {
      "display_name": "Python 3",
      "language": "python",
      "name": "python3"
    },
    "language_info": {
      "codemirror_mode": {
        "name": "ipython",
        "version": 3
      },
      "file_extension": ".py",
      "mimetype": "text/x-python",
      "name": "python",
      "nbconvert_exporter": "python",
      "pygments_lexer": "ipython3",
      "version": "3.7.6"
    },
    "colab": {
      "name": "F7_33_29.ipynb",
      "provenance": [],
      "collapsed_sections": [],
      "include_colab_link": true
    }
  },
  "cells": [
    {
      "cell_type": "markdown",
      "metadata": {
        "id": "view-in-github",
        "colab_type": "text"
      },
      "source": [
        "<a href=\"https://colab.research.google.com/github/Az-Ks/AirQo-Ugandan-Air-Quality-Forecast/blob/master/indianda.ipynb\" target=\"_parent\"><img src=\"https://colab.research.google.com/assets/colab-badge.svg\" alt=\"Open In Colab\"/></a>"
      ]
    },
    {
      "cell_type": "code",
      "metadata": {
        "id": "28tisEbR66ru",
        "colab_type": "code",
        "outputId": "95b52c1b-9542-455c-bc29-d52b6a7a5c64",
        "colab": {
          "base_uri": "https://localhost:8080/",
          "height": 343
        }
      },
      "source": [
        "pip install catboost"
      ],
      "execution_count": 0,
      "outputs": [
        {
          "output_type": "stream",
          "text": [
            "Collecting catboost\n",
            "\u001b[?25l  Downloading https://files.pythonhosted.org/packages/b2/aa/e61819d04ef2bbee778bf4b3a748db1f3ad23512377e43ecfdc3211437a0/catboost-0.23.2-cp36-none-manylinux1_x86_64.whl (64.8MB)\n",
            "\u001b[K     |████████████████████████████████| 64.8MB 122kB/s \n",
            "\u001b[?25hRequirement already satisfied: pandas>=0.24.0 in /usr/local/lib/python3.6/dist-packages (from catboost) (1.0.3)\n",
            "Requirement already satisfied: plotly in /usr/local/lib/python3.6/dist-packages (from catboost) (4.4.1)\n",
            "Requirement already satisfied: six in /usr/local/lib/python3.6/dist-packages (from catboost) (1.12.0)\n",
            "Requirement already satisfied: scipy in /usr/local/lib/python3.6/dist-packages (from catboost) (1.4.1)\n",
            "Requirement already satisfied: numpy>=1.16.0 in /usr/local/lib/python3.6/dist-packages (from catboost) (1.18.4)\n",
            "Requirement already satisfied: graphviz in /usr/local/lib/python3.6/dist-packages (from catboost) (0.10.1)\n",
            "Requirement already satisfied: matplotlib in /usr/local/lib/python3.6/dist-packages (from catboost) (3.2.1)\n",
            "Requirement already satisfied: pytz>=2017.2 in /usr/local/lib/python3.6/dist-packages (from pandas>=0.24.0->catboost) (2018.9)\n",
            "Requirement already satisfied: python-dateutil>=2.6.1 in /usr/local/lib/python3.6/dist-packages (from pandas>=0.24.0->catboost) (2.8.1)\n",
            "Requirement already satisfied: retrying>=1.3.3 in /usr/local/lib/python3.6/dist-packages (from plotly->catboost) (1.3.3)\n",
            "Requirement already satisfied: cycler>=0.10 in /usr/local/lib/python3.6/dist-packages (from matplotlib->catboost) (0.10.0)\n",
            "Requirement already satisfied: kiwisolver>=1.0.1 in /usr/local/lib/python3.6/dist-packages (from matplotlib->catboost) (1.2.0)\n",
            "Requirement already satisfied: pyparsing!=2.0.4,!=2.1.2,!=2.1.6,>=2.0.1 in /usr/local/lib/python3.6/dist-packages (from matplotlib->catboost) (2.4.7)\n",
            "Installing collected packages: catboost\n",
            "Successfully installed catboost-0.23.2\n"
          ],
          "name": "stdout"
        }
      ]
    },
    {
      "cell_type": "code",
      "metadata": {
        "_cell_guid": "b1076dfc-b9ad-4769-8c92-a6c4dae69d19",
        "_uuid": "8f2839f25d086af736a60e9eeb907d3b93b6e0e5",
        "id": "Bt7cbLC6m9NS",
        "colab_type": "code",
        "colab": {}
      },
      "source": [
        "import pandas as pd\n",
        "import numpy as np\n",
        "import matplotlib.pyplot as plt\n",
        "import seaborn as sns\n",
        "import warnings\n",
        "warnings.filterwarnings('ignore')\n",
        "\n",
        "from math import sqrt \n",
        "import lightgbm as lgb\n",
        "from sklearn.metrics import mean_squared_error \n",
        "from sklearn.model_selection import KFold, train_test_split\n",
        "\n",
        "\n",
        "from scipy.sparse import csr_matrix\n",
        "import gc\n",
        "\n",
        "import pandas as pd\n",
        "import numpy as np\n",
        "import matplotlib.pyplot as plt\n",
        "import seaborn as sns\n",
        "from xgboost import XGBRegressor\n",
        "from catboost import CatBoostRegressor\n",
        "from lightgbm import LGBMRegressor\n",
        "from sklearn.ensemble import GradientBoostingRegressor,RandomForestRegressor,BaggingRegressor,AdaBoostRegressor,ExtraTreesRegressor\n",
        "from sklearn.tree import DecisionTreeRegressor\n",
        "from sklearn.linear_model import LinearRegression\n",
        "from sklearn.ensemble import StackingRegressor\n",
        "#from ngboost import NGBRegressor\n",
        "from sklearn.metrics import mean_squared_log_error\n",
        "from sklearn.preprocessing import LabelEncoder\n",
        "from sklearn.model_selection import KFold,StratifiedKFold, GroupKFold\n",
        "import datetime\n",
        "from statsmodels.graphics.tsaplots import plot_acf, plot_pacf\n",
        "# from fastai.tabular import *\n",
        "import warnings\n",
        "warnings.filterwarnings(\"ignore\")\n",
        "np.random.seed(0)\n",
        "pd.set_option('display.max_rows', 500)\n",
        "pd.set_option('display.max_columns', 500)\n",
        "pd.set_option('display.width', 1000)"
      ],
      "execution_count": 0,
      "outputs": []
    },
    {
      "cell_type": "code",
      "metadata": {
        "_cell_guid": "79c7e3d0-c299-4dcb-8224-4455121ee9b0",
        "_uuid": "d629ff2d2480ee46fbb7e2d37f6b5fab8052498a",
        "id": "iIXDQzmam9NZ",
        "colab_type": "code",
        "colab": {}
      },
      "source": [
        "# Memory reduction helper function:\n",
        "def reduce_mem_usage(df, verbose=True):\n",
        "    numerics = ['int16', 'int32', 'int64', 'float16', 'float32', 'float64']\n",
        "    start_mem = df.memory_usage().sum() / 1024**2    \n",
        "    for col in df.columns: #columns\n",
        "        col_type = df[col].dtypes\n",
        "        if col_type in numerics: #numerics\n",
        "            c_min = df[col].min()\n",
        "            c_max = df[col].max()\n",
        "            if str(col_type)[:3] == 'int':\n",
        "                if c_min > np.iinfo(np.int8).min and c_max < np.iinfo(np.int8).max:\n",
        "                    df[col] = df[col].astype(np.int8)\n",
        "                elif c_min > np.iinfo(np.int16).min and c_max < np.iinfo(np.int16).max:\n",
        "                    df[col] = df[col].astype(np.int16)\n",
        "                elif c_min > np.iinfo(np.int32).min and c_max < np.iinfo(np.int32).max:\n",
        "                    df[col] = df[col].astype(np.int32)\n",
        "                elif c_min > np.iinfo(np.int64).min and c_max < np.iinfo(np.int64).max:\n",
        "                    df[col] = df[col].astype(np.int64)  \n",
        "            else:\n",
        "                if c_min > np.finfo(np.float16).min and c_max < np.finfo(np.float16).max:\n",
        "                    df[col] = df[col].astype(np.float16)\n",
        "                elif c_min > np.finfo(np.float32).min and c_max < np.finfo(np.float32).max:\n",
        "                    df[col] = df[col].astype(np.float32)\n",
        "                else:\n",
        "                    df[col] = df[col].astype(np.float64)    \n",
        "    end_mem = df.memory_usage().sum() / 1024**2\n",
        "    if verbose: print('Mem. usage decreased to {:5.2f} Mb ({:.1f}% reduction)'.format(end_mem, 100 * (start_mem - end_mem) / start_mem))\n",
        "    return df"
      ],
      "execution_count": 0,
      "outputs": []
    },
    {
      "cell_type": "code",
      "metadata": {
        "id": "o0q54GGtm9Nc",
        "colab_type": "code",
        "colab": {}
      },
      "source": [
        "from IPython.display import HTML\n",
        "import pandas as pd\n",
        "import numpy as np\n",
        "import base64\n",
        "\n",
        "# download it (will only work for files < 2MB or so)\n",
        "def create_download_link(df, title = \"Download CSV file\", filename = \"rf.csv\"):  \n",
        "    csv = df.to_csv(index=False)\n",
        "    b64 = base64.b64encode(csv.encode())\n",
        "    payload = b64.decode()\n",
        "    html = '<a download=\"{filename}\" href=\"data:text/csv;base64,{payload}\" target=\"_blank\">{title}</a>'\n",
        "    html = html.format(payload=payload,title=title,filename=filename)\n",
        "    return HTML(html)"
      ],
      "execution_count": 0,
      "outputs": []
    },
    {
      "cell_type": "code",
      "metadata": {
        "id": "16tEwM7Zy2LT",
        "colab_type": "code",
        "outputId": "72843c89-5503-46f7-83ce-cd9c47fc0d64",
        "colab": {
          "base_uri": "https://localhost:8080/",
          "height": 122
        }
      },
      "source": [
        "from google.colab import drive\n",
        "drive.mount('/content/drive')"
      ],
      "execution_count": 0,
      "outputs": [
        {
          "output_type": "stream",
          "text": [
            "Go to this URL in a browser: https://accounts.google.com/o/oauth2/auth?client_id=947318989803-6bn6qk8qdgf4n4g3pfee6491hc0brc4i.apps.googleusercontent.com&redirect_uri=urn%3aietf%3awg%3aoauth%3a2.0%3aoob&response_type=code&scope=email%20https%3a%2f%2fwww.googleapis.com%2fauth%2fdocs.test%20https%3a%2f%2fwww.googleapis.com%2fauth%2fdrive%20https%3a%2f%2fwww.googleapis.com%2fauth%2fdrive.photos.readonly%20https%3a%2f%2fwww.googleapis.com%2fauth%2fpeopleapi.readonly\n",
            "\n",
            "Enter your authorization code:\n",
            "··········\n",
            "Mounted at /content/drive\n"
          ],
          "name": "stdout"
        }
      ]
    },
    {
      "cell_type": "code",
      "metadata": {
        "id": "Ijyk-OtEm9Nf",
        "colab_type": "code",
        "colab": {}
      },
      "source": [
        "path =  '/content/drive/My Drive/'"
      ],
      "execution_count": 0,
      "outputs": []
    },
    {
      "cell_type": "code",
      "metadata": {
        "id": "3KlNJQizm9Ni",
        "colab_type": "code",
        "outputId": "517007c7-f366-4887-8476-8be272e14b5c",
        "colab": {
          "base_uri": "https://localhost:8080/",
          "height": 34
        }
      },
      "source": [
        "train_df = pd.read_csv(path+'train_df.csv')\n",
        "test_df = pd.read_csv(path+'test_df.csv')\n",
        "train_df.shape,test_df.shape"
      ],
      "execution_count": 0,
      "outputs": [
        {
          "output_type": "execute_result",
          "data": {
            "text/plain": [
              "((15539, 3087), (5035, 3086))"
            ]
          },
          "metadata": {
            "tags": []
          },
          "execution_count": 48
        }
      ]
    },
    {
      "cell_type": "code",
      "metadata": {
        "id": "UcJaZ8Gqm9Nq",
        "colab_type": "code",
        "colab": {}
      },
      "source": [
        "temp = [\"temp{}\".format(i) for i in range(121)]\n",
        "precip = [\"precip{}\".format(i) for i in range(121)]\n",
        "rel_humidity = [\"rel_humidity{}\".format(i) for i in range(121)]\n",
        "wind_dir = [\"wind_dir{}\".format(i) for i in range(121)]\n",
        "wind_spd = [\"wind_spd{}\".format(i) for i in range(121)]\n",
        "atmos_press = [\"atmos_press{}\".format(i) for i in range(121)]"
      ],
      "execution_count": 0,
      "outputs": []
    },
    {
      "cell_type": "code",
      "metadata": {
        "id": "5e37zAVpm9Nu",
        "colab_type": "code",
        "colab": {}
      },
      "source": [
        "grp_data11_col = pd.read_csv(path+'grp_data11_col.csv')\n",
        "grp_data11_col = list(grp_data11_col['0'].values)\n",
        "\n",
        "grp_data21_col = pd.read_csv(path+'grp_data21_col.csv')\n",
        "grp_data21_col = list(grp_data21_col['0'].values)\n",
        "\n",
        "grp_data31_col = pd.read_csv(path+'grp_data31_col.csv')\n",
        "grp_data31_col = list(grp_data31_col['0'].values)\n",
        "\n",
        "grp_data41_col = pd.read_csv(path+'grp_data41_col.csv')\n",
        "grp_data41_col = list(grp_data41_col['0'].values)\n",
        "\n",
        "grp_data51_col = pd.read_csv(path+'grp_data51_col.csv')\n",
        "grp_data51_col = list(grp_data51_col['0'].values)\n",
        "\n",
        "rem_org = pd.read_csv(path+'rem_org.csv')\n",
        "rem_org = list(rem_org['0'].values)"
      ],
      "execution_count": 0,
      "outputs": []
    },
    {
      "cell_type": "code",
      "metadata": {
        "id": "kwukjWmwm9Nz",
        "colab_type": "code",
        "outputId": "1c245c4e-5a90-4f1d-beac-d1eb85dd94c3",
        "colab": {
          "base_uri": "https://localhost:8080/",
          "height": 34
        }
      },
      "source": [
        "len(rem_org),len(grp_data11_col),len(grp_data21_col),len(grp_data31_col),len(grp_data41_col),len(grp_data51_col)"
      ],
      "execution_count": 0,
      "outputs": [
        {
          "output_type": "execute_result",
          "data": {
            "text/plain": [
              "(116, 511, 409, 817, 307, 205)"
            ]
          },
          "metadata": {
            "tags": []
          },
          "execution_count": 52
        }
      ]
    },
    {
      "cell_type": "code",
      "metadata": {
        "id": "LEvsmujUm9N4",
        "colab_type": "code",
        "colab": {}
      },
      "source": [
        "f1 = list(set(temp + precip + rel_humidity + wind_dir + wind_spd + atmos_press + rem_org)) # orig\n",
        "f2 = list(set(f1 + grp_data11_col)) #day\n",
        "f3 = list(set(f1 + grp_data21_col)) #typeofday\n",
        "f4 = list(set(f1 + grp_data31_col)) #type_of_day1\n",
        "f5 = list(set(f1 + grp_data41_col)) #type_of_day2\n",
        "f6 = list(set(f1 + grp_data51_col)) #type_of_day3\n",
        "f7 = list(set(f1 + f3 + f5)) #type_of_day day_type_of_day2\n",
        "f8 = list(set(f1 + f3 + f6)) #type_of_day day_type_of_day3\n",
        "f9 = list(set(f1 + f4 + f5)) #type_of_day1 day_type_of_day2\n",
        "f10 = list(set(f1 + f4 + f6)) #type_of_day1 day_type_of_day3\n",
        "f11 = list(set(f1 + f5 + f6)) #type_of_day2 day_type_of_day3\n",
        "f12 = list(set(f1 + f3+ f5 + f6)) #type_of_day type_of_day2 day_type_of_day3\n",
        "f13 = list(set(f1 + f4+ f5 + f6)) #type_of_day1 type_of_day2 day_type_of_day3\n",
        "f14 = list(set(f1 +f2+ f4+ f5 + f3 + f6)) #type_of_day1 type_of_day2 day_type_of_day3"
      ],
      "execution_count": 0,
      "outputs": []
    },
    {
      "cell_type": "code",
      "metadata": {
        "id": "5Hb8Jukxm9N6",
        "colab_type": "code",
        "outputId": "4ea33593-48c8-4634-e69b-8f44b6106567",
        "colab": {
          "base_uri": "https://localhost:8080/",
          "height": 34
        }
      },
      "source": [
        "train = train_df[f7+['target']]\n",
        "test = test_df[f7]\n",
        "train.shape,test.shape"
      ],
      "execution_count": 0,
      "outputs": [
        {
          "output_type": "execute_result",
          "data": {
            "text/plain": [
              "((15539, 1557), (5035, 1556))"
            ]
          },
          "metadata": {
            "tags": []
          },
          "execution_count": 109
        }
      ]
    },
    {
      "cell_type": "code",
      "metadata": {
        "id": "jfT0g2KSm9OA",
        "colab_type": "code",
        "outputId": "3d45143c-ffb8-4b37-867e-a81282d9a584",
        "colab": {
          "base_uri": "https://localhost:8080/",
          "height": 34
        }
      },
      "source": [
        "train_id = train['ID']\n",
        "test_id = test['ID']\n",
        "y = train['target']\n",
        "\n",
        "train.drop(['ID','target'],axis=1,inplace=True)\n",
        "test.drop('ID',axis=1,inplace=True)\n",
        "train.shape,test.shape"
      ],
      "execution_count": 0,
      "outputs": [
        {
          "output_type": "execute_result",
          "data": {
            "text/plain": [
              "((15539, 1555), (5035, 1555))"
            ]
          },
          "metadata": {
            "tags": []
          },
          "execution_count": 110
        }
      ]
    },
    {
      "cell_type": "code",
      "metadata": {
        "id": "6FPdKg3d5xsq",
        "colab_type": "code",
        "colab": {}
      },
      "source": [
        "forecastwindte=pd.read_csv('/content/winddirforecasttest ADD THOSE FEATURES TO TEST.csv')\n",
        "forecastwindtr=pd.read_csv('/content/winddirforecasttrain ADD THOSE COLUMNS TO TRAIN.csv')"
      ],
      "execution_count": 0,
      "outputs": []
    },
    {
      "cell_type": "code",
      "metadata": {
        "id": "liV-ze6x1EZe",
        "colab_type": "code",
        "colab": {}
      },
      "source": [
        "X  = train.copy()\n",
        "Xtest = test.copy()"
      ],
      "execution_count": 0,
      "outputs": []
    },
    {
      "cell_type": "code",
      "metadata": {
        "id": "W9Lwdhd3pv4M",
        "colab_type": "code",
        "colab": {}
      },
      "source": [
        "for i in forecastwindte.columns :\n",
        "  X[i]=forecastwindtr[i]\n",
        "  Xtest[i]=forecastwindte[i]"
      ],
      "execution_count": 0,
      "outputs": []
    },
    {
      "cell_type": "code",
      "metadata": {
        "id": "jyHCFKUBm9OI",
        "colab_type": "code",
        "outputId": "622d0c9c-1098-4396-8887-1191d120d292",
        "colab": {
          "base_uri": "https://localhost:8080/",
          "height": 51
        }
      },
      "source": [
        "%%time\n",
        "from lightgbm import LGBMRegressor\n",
        "lgb = LGBMRegressor()\n",
        "lgb.fit(X,y)\n",
        "\n",
        "imp = pd.DataFrame(lgb.feature_importances_,index=X.columns)\n",
        "l = list(imp[imp[0]>3].index)\n",
        "len(l)"
      ],
      "execution_count": 0,
      "outputs": [
        {
          "output_type": "stream",
          "text": [
            "CPU times: user 1min 10s, sys: 119 ms, total: 1min 11s\n",
            "Wall time: 36.8 s\n"
          ],
          "name": "stdout"
        }
      ]
    },
    {
      "cell_type": "code",
      "metadata": {
        "id": "o4AbdDPW7-62",
        "colab_type": "code",
        "outputId": "f2eb1295-08a0-4018-b962-f92967e6d81f",
        "colab": {
          "base_uri": "https://localhost:8080/",
          "height": 34
        }
      },
      "source": [
        "len(l),X.shape"
      ],
      "execution_count": 0,
      "outputs": [
        {
          "output_type": "execute_result",
          "data": {
            "text/plain": [
              "(251, (15539, 1573))"
            ]
          },
          "metadata": {
            "tags": []
          },
          "execution_count": 115
        }
      ]
    },
    {
      "cell_type": "code",
      "metadata": {
        "id": "XFezR9QtJr03",
        "colab_type": "code",
        "outputId": "1c23c1af-cbe0-4a21-92a1-1070abd88fd6",
        "colab": {
          "base_uri": "https://localhost:8080/",
          "height": 34
        }
      },
      "source": [
        "X[l].shape"
      ],
      "execution_count": 0,
      "outputs": [
        {
          "output_type": "execute_result",
          "data": {
            "text/plain": [
              "(15539, 251)"
            ]
          },
          "metadata": {
            "tags": []
          },
          "execution_count": 116
        }
      ]
    },
    {
      "cell_type": "code",
      "metadata": {
        "id": "cJBxSH73m9OL",
        "colab_type": "code",
        "outputId": "47da5b3d-1904-47c4-a9a8-d9f13ad871d7",
        "colab": {
          "base_uri": "https://localhost:8080/",
          "height": 1000
        }
      },
      "source": [
        "from catboost import CatBoostRegressor\n",
        "errcb2=[]\n",
        "y_pred_totcb2=[]\n",
        "from sklearn.model_selection import KFold,StratifiedKFold, TimeSeriesSplit\n",
        "from sklearn.metrics import mean_squared_error\n",
        "fold=KFold(n_splits=20)#15#5#10\n",
        "i=1\n",
        "for train_index, test_index in fold.split(X,y):\n",
        "    X_train, X_test = X[l].values[train_index], X[l].values[test_index]\n",
        "    y_train, y_test = y.values[train_index], y.values[test_index]\n",
        "    m2  = CatBoostRegressor(n_estimators=5000,eval_metric='RMSE',learning_rate=0.175, random_seed= 42, use_best_model=True )\n",
        "    m2.fit(X_train,y_train,eval_set=[(X_train,y_train),(X_test, y_test)], early_stopping_rounds=200,verbose=200)\n",
        "    preds=m2.predict(X_test)\n",
        "    print(\"err: \",np.sqrt(mean_squared_error(y_test,preds)))\n",
        "    errcb2.append(np.sqrt(mean_squared_error(y_test,preds)))\n",
        "    p2 = m2.predict(Xtest[l])\n",
        "    y_pred_totcb2.append(p2)\n",
        "np.mean(errcb2)"
      ],
      "execution_count": 0,
      "outputs": [
        {
          "output_type": "stream",
          "text": [
            "0:\tlearn: 40.0876723\ttest: 40.0876723\ttest1: 40.8671914\tbest: 40.8671914 (0)\ttotal: 82.9ms\tremaining: 6m 54s\n",
            "200:\tlearn: 18.7261668\ttest: 18.7261668\ttest1: 24.3206390\tbest: 24.2671957 (195)\ttotal: 15.7s\tremaining: 6m 14s\n",
            "400:\tlearn: 14.0273746\ttest: 14.0273746\ttest1: 23.2844559\tbest: 23.2426862 (384)\ttotal: 31.2s\tremaining: 5m 58s\n",
            "600:\tlearn: 11.1481095\ttest: 11.1481095\ttest1: 22.9916124\tbest: 22.9214612 (544)\ttotal: 46.8s\tremaining: 5m 42s\n",
            "800:\tlearn: 9.1067324\ttest: 9.1067324\ttest1: 22.9154239\tbest: 22.8916184 (796)\ttotal: 1m 2s\tremaining: 5m 26s\n",
            "1000:\tlearn: 7.5375543\ttest: 7.5375543\ttest1: 22.8136649\tbest: 22.8033906 (983)\ttotal: 1m 17s\tremaining: 5m 10s\n",
            "1200:\tlearn: 6.2964674\ttest: 6.2964674\ttest1: 22.7658360\tbest: 22.7564960 (1192)\ttotal: 1m 33s\tremaining: 4m 54s\n",
            "1400:\tlearn: 5.3083733\ttest: 5.3083733\ttest1: 22.7173545\tbest: 22.6998592 (1353)\ttotal: 1m 49s\tremaining: 4m 41s\n",
            "1600:\tlearn: 4.4913219\ttest: 4.4913219\ttest1: 22.6589477\tbest: 22.6589477 (1600)\ttotal: 2m 5s\tremaining: 4m 27s\n",
            "1800:\tlearn: 3.8271519\ttest: 3.8271519\ttest1: 22.6417856\tbest: 22.6403727 (1793)\ttotal: 2m 21s\tremaining: 4m 10s\n",
            "2000:\tlearn: 3.2675556\ttest: 3.2675556\ttest1: 22.6056521\tbest: 22.6013030 (1996)\ttotal: 2m 36s\tremaining: 3m 55s\n",
            "2200:\tlearn: 2.7916963\ttest: 2.7916963\ttest1: 22.5825413\tbest: 22.5472933 (2089)\ttotal: 2m 52s\tremaining: 3m 39s\n",
            "Stopped by overfitting detector  (200 iterations wait)\n",
            "\n",
            "bestTest = 22.54729334\n",
            "bestIteration = 2089\n",
            "\n",
            "Shrink model to first 2090 iterations.\n",
            "err:  22.54729355867787\n",
            "0:\tlearn: 40.2335396\ttest: 40.2335396\ttest1: 37.5305630\tbest: 37.5305630 (0)\ttotal: 79.2ms\tremaining: 6m 35s\n",
            "200:\tlearn: 18.7921257\ttest: 18.7921257\ttest1: 22.5270938\tbest: 22.5066513 (193)\ttotal: 15.5s\tremaining: 6m 10s\n",
            "400:\tlearn: 14.1558333\ttest: 14.1558333\ttest1: 21.6030513\tbest: 21.5935892 (389)\ttotal: 30.9s\tremaining: 5m 54s\n",
            "600:\tlearn: 11.2241101\ttest: 11.2241101\ttest1: 21.2615330\tbest: 21.2415566 (587)\ttotal: 46.4s\tremaining: 5m 39s\n",
            "800:\tlearn: 9.1447559\ttest: 9.1447559\ttest1: 21.1092259\tbest: 21.0980380 (788)\ttotal: 1m 1s\tremaining: 5m 24s\n",
            "1000:\tlearn: 7.5405212\ttest: 7.5405212\ttest1: 20.9789300\tbest: 20.9686746 (996)\ttotal: 1m 17s\tremaining: 5m 9s\n",
            "1200:\tlearn: 6.2914202\ttest: 6.2914202\ttest1: 20.9586354\tbest: 20.9396207 (1183)\ttotal: 1m 32s\tremaining: 4m 53s\n",
            "1400:\tlearn: 5.2881884\ttest: 5.2881884\ttest1: 20.9648652\tbest: 20.9364999 (1228)\ttotal: 1m 48s\tremaining: 4m 38s\n",
            "Stopped by overfitting detector  (200 iterations wait)\n",
            "\n",
            "bestTest = 20.93649987\n",
            "bestIteration = 1228\n",
            "\n",
            "Shrink model to first 1229 iterations.\n",
            "err:  20.936499717501444\n",
            "0:\tlearn: 40.2699643\ttest: 40.2699643\ttest1: 40.8415667\tbest: 40.8415667 (0)\ttotal: 76.5ms\tremaining: 6m 22s\n",
            "200:\tlearn: 18.6753351\ttest: 18.6753351\ttest1: 27.4187183\tbest: 27.4088922 (193)\ttotal: 15.5s\tremaining: 6m 10s\n",
            "400:\tlearn: 13.9656204\ttest: 13.9656204\ttest1: 26.2749454\tbest: 26.2749454 (400)\ttotal: 31s\tremaining: 5m 55s\n",
            "600:\tlearn: 11.1377151\ttest: 11.1377151\ttest1: 25.7939350\tbest: 25.7758090 (597)\ttotal: 46.6s\tremaining: 5m 40s\n",
            "800:\tlearn: 9.0698954\ttest: 9.0698954\ttest1: 25.6473063\tbest: 25.6330944 (796)\ttotal: 1m 2s\tremaining: 5m 26s\n",
            "1000:\tlearn: 7.4735173\ttest: 7.4735173\ttest1: 25.6020918\tbest: 25.5582752 (956)\ttotal: 1m 17s\tremaining: 5m 10s\n",
            "1200:\tlearn: 6.2397293\ttest: 6.2397293\ttest1: 25.4641451\tbest: 25.4639263 (1199)\ttotal: 1m 33s\tremaining: 4m 55s\n",
            "1400:\tlearn: 5.2201605\ttest: 5.2201605\ttest1: 25.4301693\tbest: 25.4189535 (1337)\ttotal: 1m 48s\tremaining: 4m 39s\n",
            "1600:\tlearn: 4.4155659\ttest: 4.4155659\ttest1: 25.4454091\tbest: 25.3828358 (1479)\ttotal: 2m 4s\tremaining: 4m 24s\n",
            "Stopped by overfitting detector  (200 iterations wait)\n",
            "\n",
            "bestTest = 25.38283585\n",
            "bestIteration = 1479\n",
            "\n",
            "Shrink model to first 1480 iterations.\n",
            "err:  25.382835740606435\n",
            "0:\tlearn: 40.0010233\ttest: 40.0010233\ttest1: 42.8422200\tbest: 42.8422200 (0)\ttotal: 77.1ms\tremaining: 6m 25s\n",
            "200:\tlearn: 18.5276182\ttest: 18.5276182\ttest1: 26.6084511\tbest: 26.5904701 (199)\ttotal: 15.5s\tremaining: 6m 11s\n",
            "400:\tlearn: 13.9511841\ttest: 13.9511841\ttest1: 25.2719486\tbest: 25.2719486 (400)\ttotal: 31s\tremaining: 5m 55s\n",
            "600:\tlearn: 11.0352126\ttest: 11.0352126\ttest1: 24.5883537\tbest: 24.5883537 (600)\ttotal: 46.5s\tremaining: 5m 40s\n",
            "800:\tlearn: 8.9755095\ttest: 8.9755095\ttest1: 24.3519888\tbest: 24.3087064 (740)\ttotal: 1m 1s\tremaining: 5m 24s\n",
            "1000:\tlearn: 7.4336900\ttest: 7.4336900\ttest1: 24.0587788\tbest: 24.0576351 (999)\ttotal: 1m 17s\tremaining: 5m 9s\n",
            "1200:\tlearn: 6.1865076\ttest: 6.1865076\ttest1: 23.8666247\tbest: 23.8666247 (1200)\ttotal: 1m 33s\tremaining: 4m 54s\n",
            "1400:\tlearn: 5.2120808\ttest: 5.2120808\ttest1: 23.8334914\tbest: 23.8274649 (1387)\ttotal: 1m 48s\tremaining: 4m 38s\n",
            "1600:\tlearn: 4.4131917\ttest: 4.4131917\ttest1: 23.7687539\tbest: 23.7601979 (1578)\ttotal: 2m 4s\tremaining: 4m 23s\n",
            "1800:\tlearn: 3.7598475\ttest: 3.7598475\ttest1: 23.7438139\tbest: 23.7426417 (1687)\ttotal: 2m 19s\tremaining: 4m 8s\n",
            "2000:\tlearn: 3.2096719\ttest: 3.2096719\ttest1: 23.6954691\tbest: 23.6877001 (1940)\ttotal: 2m 35s\tremaining: 3m 53s\n",
            "2200:\tlearn: 2.7333636\ttest: 2.7333636\ttest1: 23.6486949\tbest: 23.6438895 (2193)\ttotal: 2m 51s\tremaining: 3m 38s\n",
            "2400:\tlearn: 2.3576374\ttest: 2.3576374\ttest1: 23.6143687\tbest: 23.6135243 (2398)\ttotal: 3m 7s\tremaining: 3m 22s\n",
            "2600:\tlearn: 2.0288923\ttest: 2.0288923\ttest1: 23.6012689\tbest: 23.6000219 (2593)\ttotal: 3m 22s\tremaining: 3m 7s\n",
            "2800:\tlearn: 1.7491326\ttest: 1.7491326\ttest1: 23.5908282\tbest: 23.5875003 (2782)\ttotal: 3m 38s\tremaining: 2m 51s\n",
            "3000:\tlearn: 1.5159515\ttest: 1.5159515\ttest1: 23.5843994\tbest: 23.5841580 (2971)\ttotal: 3m 54s\tremaining: 2m 36s\n",
            "3200:\tlearn: 1.3248261\ttest: 1.3248261\ttest1: 23.5876218\tbest: 23.5837679 (3127)\ttotal: 4m 9s\tremaining: 2m 20s\n",
            "3400:\tlearn: 1.1520374\ttest: 1.1520374\ttest1: 23.5751287\tbest: 23.5742021 (3396)\ttotal: 4m 25s\tremaining: 2m 4s\n",
            "3600:\tlearn: 1.0056445\ttest: 1.0056445\ttest1: 23.5690721\tbest: 23.5683305 (3566)\ttotal: 4m 41s\tremaining: 1m 49s\n",
            "3800:\tlearn: 0.8768814\ttest: 0.8768814\ttest1: 23.5550729\tbest: 23.5541394 (3796)\ttotal: 4m 58s\tremaining: 1m 34s\n",
            "4000:\tlearn: 0.7579140\ttest: 0.7579140\ttest1: 23.5492676\tbest: 23.5476309 (3974)\ttotal: 5m 14s\tremaining: 1m 18s\n",
            "4200:\tlearn: 0.6576364\ttest: 0.6576364\ttest1: 23.5353984\tbest: 23.5342956 (4181)\ttotal: 5m 31s\tremaining: 1m 2s\n",
            "4400:\tlearn: 0.5711441\ttest: 0.5711441\ttest1: 23.5296140\tbest: 23.5290636 (4375)\ttotal: 5m 48s\tremaining: 47.4s\n",
            "4600:\tlearn: 0.5002357\ttest: 0.5002357\ttest1: 23.5301061\tbest: 23.5279730 (4528)\ttotal: 6m 3s\tremaining: 31.6s\n",
            "Stopped by overfitting detector  (200 iterations wait)\n",
            "\n",
            "bestTest = 23.52797302\n",
            "bestIteration = 4528\n",
            "\n",
            "Shrink model to first 4529 iterations.\n",
            "err:  23.527972862069507\n",
            "0:\tlearn: 40.1718664\ttest: 40.1718664\ttest1: 41.1290550\tbest: 41.1290550 (0)\ttotal: 77.2ms\tremaining: 6m 26s\n",
            "200:\tlearn: 18.4836731\ttest: 18.4836731\ttest1: 25.4569672\tbest: 25.4569672 (200)\ttotal: 15.5s\tremaining: 6m 10s\n",
            "400:\tlearn: 13.9355300\ttest: 13.9355300\ttest1: 24.4773893\tbest: 24.4763157 (392)\ttotal: 31.2s\tremaining: 5m 57s\n",
            "600:\tlearn: 11.0812480\ttest: 11.0812480\ttest1: 23.9179170\tbest: 23.9087132 (596)\ttotal: 46.7s\tremaining: 5m 41s\n",
            "800:\tlearn: 9.0671201\ttest: 9.0671201\ttest1: 23.4813391\tbest: 23.4790011 (796)\ttotal: 1m 2s\tremaining: 5m 26s\n",
            "1000:\tlearn: 7.4996077\ttest: 7.4996077\ttest1: 23.3210801\tbest: 23.2980099 (978)\ttotal: 1m 17s\tremaining: 5m 10s\n",
            "1200:\tlearn: 6.2619113\ttest: 6.2619113\ttest1: 23.0835750\tbest: 23.0835750 (1200)\ttotal: 1m 33s\tremaining: 4m 55s\n",
            "1400:\tlearn: 5.2647254\ttest: 5.2647254\ttest1: 23.0231194\tbest: 23.0185763 (1397)\ttotal: 1m 49s\tremaining: 4m 40s\n",
            "1600:\tlearn: 4.4365986\ttest: 4.4365986\ttest1: 22.8960975\tbest: 22.8952064 (1599)\ttotal: 2m 4s\tremaining: 4m 24s\n",
            "1800:\tlearn: 3.7980562\ttest: 3.7980562\ttest1: 22.8099496\tbest: 22.8013149 (1793)\ttotal: 2m 20s\tremaining: 4m 8s\n",
            "2000:\tlearn: 3.2304707\ttest: 3.2304707\ttest1: 22.7436463\tbest: 22.7402474 (1986)\ttotal: 2m 35s\tremaining: 3m 53s\n",
            "2200:\tlearn: 2.7697644\ttest: 2.7697644\ttest1: 22.7045545\tbest: 22.7005346 (2180)\ttotal: 2m 51s\tremaining: 3m 38s\n",
            "2400:\tlearn: 2.3801329\ttest: 2.3801329\ttest1: 22.6786484\tbest: 22.6739218 (2396)\ttotal: 3m 7s\tremaining: 3m 22s\n",
            "2600:\tlearn: 2.0552460\ttest: 2.0552460\ttest1: 22.6356006\tbest: 22.6291453 (2583)\ttotal: 3m 22s\tremaining: 3m 6s\n",
            "2800:\tlearn: 1.7799421\ttest: 1.7799421\ttest1: 22.5960161\tbest: 22.5948527 (2787)\ttotal: 3m 38s\tremaining: 2m 51s\n",
            "3000:\tlearn: 1.5323343\ttest: 1.5323343\ttest1: 22.5770603\tbest: 22.5754886 (2946)\ttotal: 3m 53s\tremaining: 2m 35s\n",
            "3200:\tlearn: 1.3334044\ttest: 1.3334044\ttest1: 22.5594997\tbest: 22.5587520 (3148)\ttotal: 4m 9s\tremaining: 2m 20s\n",
            "3400:\tlearn: 1.1560733\ttest: 1.1560733\ttest1: 22.5518747\tbest: 22.5495954 (3345)\ttotal: 4m 25s\tremaining: 2m 4s\n",
            "3600:\tlearn: 1.0070794\ttest: 1.0070794\ttest1: 22.5210004\tbest: 22.5210004 (3600)\ttotal: 4m 40s\tremaining: 1m 49s\n",
            "3800:\tlearn: 0.8806402\ttest: 0.8806402\ttest1: 22.5110279\tbest: 22.5082813 (3784)\ttotal: 4m 56s\tremaining: 1m 33s\n",
            "4000:\tlearn: 0.7648709\ttest: 0.7648709\ttest1: 22.5080329\tbest: 22.5075276 (3993)\ttotal: 5m 12s\tremaining: 1m 17s\n",
            "4200:\tlearn: 0.6667834\ttest: 0.6667834\ttest1: 22.5034791\tbest: 22.5006112 (4108)\ttotal: 5m 29s\tremaining: 1m 2s\n",
            "Stopped by overfitting detector  (200 iterations wait)\n",
            "\n",
            "bestTest = 22.50061121\n",
            "bestIteration = 4108\n",
            "\n",
            "Shrink model to first 4109 iterations.\n",
            "err:  22.500611177040856\n",
            "0:\tlearn: 40.3333876\ttest: 40.3333876\ttest1: 37.7283832\tbest: 37.7283832 (0)\ttotal: 77.2ms\tremaining: 6m 25s\n",
            "200:\tlearn: 18.5427660\ttest: 18.5427660\ttest1: 24.1868932\tbest: 24.1868932 (200)\ttotal: 15.6s\tremaining: 6m 12s\n",
            "400:\tlearn: 14.0666296\ttest: 14.0666296\ttest1: 23.2303523\tbest: 23.2043217 (382)\ttotal: 31s\tremaining: 5m 55s\n",
            "600:\tlearn: 11.2061832\ttest: 11.2061832\ttest1: 22.7633444\tbest: 22.7618894 (589)\ttotal: 46.5s\tremaining: 5m 40s\n",
            "800:\tlearn: 9.0756666\ttest: 9.0756666\ttest1: 22.5403978\tbest: 22.5362058 (799)\ttotal: 1m 2s\tremaining: 5m 25s\n",
            "1000:\tlearn: 7.4452019\ttest: 7.4452019\ttest1: 22.4006724\tbest: 22.3917867 (972)\ttotal: 1m 17s\tremaining: 5m 10s\n",
            "1200:\tlearn: 6.2142752\ttest: 6.2142752\ttest1: 22.3990171\tbest: 22.3441165 (1105)\ttotal: 1m 33s\tremaining: 4m 55s\n",
            "1400:\tlearn: 5.2024268\ttest: 5.2024268\ttest1: 22.3002244\tbest: 22.2999298 (1392)\ttotal: 1m 49s\tremaining: 4m 40s\n",
            "1600:\tlearn: 4.3919601\ttest: 4.3919601\ttest1: 22.2671572\tbest: 22.2620270 (1555)\ttotal: 2m 4s\tremaining: 4m 24s\n",
            "1800:\tlearn: 3.7456035\ttest: 3.7456035\ttest1: 22.2398679\tbest: 22.2380782 (1792)\ttotal: 2m 20s\tremaining: 4m 9s\n",
            "2000:\tlearn: 3.1848984\ttest: 3.1848984\ttest1: 22.2351871\tbest: 22.2207260 (1898)\ttotal: 2m 36s\tremaining: 3m 53s\n",
            "2200:\tlearn: 2.7256742\ttest: 2.7256742\ttest1: 22.2073729\tbest: 22.2030415 (2179)\ttotal: 2m 51s\tremaining: 3m 38s\n",
            "2400:\tlearn: 2.3578896\ttest: 2.3578896\ttest1: 22.1812838\tbest: 22.1704177 (2369)\ttotal: 3m 8s\tremaining: 3m 24s\n",
            "Stopped by overfitting detector  (200 iterations wait)\n",
            "\n",
            "bestTest = 22.17041767\n",
            "bestIteration = 2369\n",
            "\n",
            "Shrink model to first 2370 iterations.\n",
            "err:  22.170417520833542\n",
            "0:\tlearn: 40.1457357\ttest: 40.1457357\ttest1: 41.3746201\tbest: 41.3746201 (0)\ttotal: 76ms\tremaining: 6m 19s\n",
            "200:\tlearn: 18.8420693\ttest: 18.8420693\ttest1: 25.4619658\tbest: 25.4619658 (200)\ttotal: 15.5s\tremaining: 6m 9s\n",
            "400:\tlearn: 14.2407549\ttest: 14.2407549\ttest1: 24.6336516\tbest: 24.6336516 (400)\ttotal: 31s\tremaining: 5m 55s\n",
            "600:\tlearn: 11.2038467\ttest: 11.2038467\ttest1: 24.2377383\tbest: 24.2286849 (599)\ttotal: 46.5s\tremaining: 5m 40s\n",
            "800:\tlearn: 9.2022496\ttest: 9.2022496\ttest1: 24.1784844\tbest: 24.1441411 (779)\ttotal: 1m 2s\tremaining: 5m 25s\n",
            "1000:\tlearn: 7.5905481\ttest: 7.5905481\ttest1: 24.0048152\tbest: 24.0048152 (1000)\ttotal: 1m 17s\tremaining: 5m 9s\n",
            "1200:\tlearn: 6.2990399\ttest: 6.2990399\ttest1: 23.8977774\tbest: 23.8908460 (1198)\ttotal: 1m 33s\tremaining: 4m 54s\n",
            "1400:\tlearn: 5.2766369\ttest: 5.2766369\ttest1: 23.7992180\tbest: 23.7963697 (1398)\ttotal: 1m 48s\tremaining: 4m 39s\n",
            "1600:\tlearn: 4.4485887\ttest: 4.4485887\ttest1: 23.7374916\tbest: 23.7374916 (1600)\ttotal: 2m 4s\tremaining: 4m 23s\n",
            "1800:\tlearn: 3.7643137\ttest: 3.7643137\ttest1: 23.6571016\tbest: 23.6542180 (1786)\ttotal: 2m 19s\tremaining: 4m 8s\n",
            "2000:\tlearn: 3.2122577\ttest: 3.2122577\ttest1: 23.6518104\tbest: 23.6267640 (1845)\ttotal: 2m 35s\tremaining: 3m 53s\n",
            "Stopped by overfitting detector  (200 iterations wait)\n",
            "\n",
            "bestTest = 23.62676395\n",
            "bestIteration = 1845\n",
            "\n",
            "Shrink model to first 1846 iterations.\n",
            "err:  23.626763973224094\n",
            "0:\tlearn: 40.0831508\ttest: 40.0831508\ttest1: 40.2759953\tbest: 40.2759953 (0)\ttotal: 76.9ms\tremaining: 6m 24s\n",
            "200:\tlearn: 18.5545627\ttest: 18.5545627\ttest1: 25.7563384\tbest: 25.7297570 (199)\ttotal: 15.7s\tremaining: 6m 14s\n",
            "400:\tlearn: 14.0818511\ttest: 14.0818511\ttest1: 24.6033475\tbest: 24.5966082 (399)\ttotal: 31.1s\tremaining: 5m 57s\n",
            "600:\tlearn: 11.1993655\ttest: 11.1993655\ttest1: 24.0628108\tbest: 24.0190008 (591)\ttotal: 46.7s\tremaining: 5m 41s\n",
            "800:\tlearn: 9.1069544\ttest: 9.1069544\ttest1: 23.8031567\tbest: 23.8022204 (758)\ttotal: 1m 2s\tremaining: 5m 26s\n",
            "1000:\tlearn: 7.5044513\ttest: 7.5044513\ttest1: 23.6677070\tbest: 23.6677070 (1000)\ttotal: 1m 17s\tremaining: 5m 11s\n",
            "1200:\tlearn: 6.2820095\ttest: 6.2820095\ttest1: 23.6479612\tbest: 23.5872076 (1140)\ttotal: 1m 33s\tremaining: 4m 56s\n",
            "Stopped by overfitting detector  (200 iterations wait)\n",
            "\n",
            "bestTest = 23.58720765\n",
            "bestIteration = 1140\n",
            "\n",
            "Shrink model to first 1141 iterations.\n",
            "err:  23.587207766724326\n",
            "0:\tlearn: 40.1447603\ttest: 40.1447603\ttest1: 40.0493867\tbest: 40.0493867 (0)\ttotal: 80.4ms\tremaining: 6m 41s\n",
            "200:\tlearn: 18.5434333\ttest: 18.5434333\ttest1: 26.1527334\tbest: 26.1379897 (198)\ttotal: 15.6s\tremaining: 6m 11s\n",
            "400:\tlearn: 13.9166313\ttest: 13.9166313\ttest1: 24.9135312\tbest: 24.9033703 (390)\ttotal: 31.1s\tremaining: 5m 56s\n",
            "600:\tlearn: 11.0496011\ttest: 11.0496011\ttest1: 24.5134111\tbest: 24.5005027 (595)\ttotal: 46.6s\tremaining: 5m 41s\n",
            "800:\tlearn: 8.9726530\ttest: 8.9726530\ttest1: 24.1596452\tbest: 24.1402399 (776)\ttotal: 1m 2s\tremaining: 5m 26s\n",
            "1000:\tlearn: 7.4108886\ttest: 7.4108886\ttest1: 23.9606031\tbest: 23.9555570 (991)\ttotal: 1m 17s\tremaining: 5m 10s\n",
            "1200:\tlearn: 6.1814401\ttest: 6.1814401\ttest1: 23.8160093\tbest: 23.8134094 (1184)\ttotal: 1m 33s\tremaining: 4m 55s\n",
            "1400:\tlearn: 5.2224432\ttest: 5.2224432\ttest1: 23.7993644\tbest: 23.7636155 (1331)\ttotal: 1m 49s\tremaining: 4m 40s\n",
            "1600:\tlearn: 4.4005124\ttest: 4.4005124\ttest1: 23.7306468\tbest: 23.7220672 (1584)\ttotal: 2m 4s\tremaining: 4m 25s\n",
            "1800:\tlearn: 3.7469906\ttest: 3.7469906\ttest1: 23.7112497\tbest: 23.6937853 (1660)\ttotal: 2m 20s\tremaining: 4m 9s\n",
            "2000:\tlearn: 3.2017034\ttest: 3.2017034\ttest1: 23.6699849\tbest: 23.6622811 (1989)\ttotal: 2m 36s\tremaining: 3m 54s\n",
            "2200:\tlearn: 2.7308572\ttest: 2.7308572\ttest1: 23.6678084\tbest: 23.6493446 (2068)\ttotal: 2m 52s\tremaining: 3m 38s\n",
            "2400:\tlearn: 2.3556090\ttest: 2.3556090\ttest1: 23.6214624\tbest: 23.6193422 (2398)\ttotal: 3m 7s\tremaining: 3m 23s\n",
            "2600:\tlearn: 2.0327111\ttest: 2.0327111\ttest1: 23.6190175\tbest: 23.6180589 (2423)\ttotal: 3m 23s\tremaining: 3m 7s\n",
            "2800:\tlearn: 1.7515269\ttest: 1.7515269\ttest1: 23.6220019\tbest: 23.6106827 (2615)\ttotal: 3m 39s\tremaining: 2m 52s\n",
            "Stopped by overfitting detector  (200 iterations wait)\n",
            "\n",
            "bestTest = 23.6106827\n",
            "bestIteration = 2615\n",
            "\n",
            "Shrink model to first 2616 iterations.\n",
            "err:  23.610682571289285\n",
            "0:\tlearn: 40.2442856\ttest: 40.2442856\ttest1: 40.2821978\tbest: 40.2821978 (0)\ttotal: 82.8ms\tremaining: 6m 54s\n",
            "200:\tlearn: 18.5585820\ttest: 18.5585820\ttest1: 25.1762684\tbest: 25.1686103 (199)\ttotal: 15.6s\tremaining: 6m 13s\n",
            "400:\tlearn: 14.0746033\ttest: 14.0746033\ttest1: 24.1080371\tbest: 24.1080371 (400)\ttotal: 31.2s\tremaining: 5m 57s\n",
            "600:\tlearn: 11.1698903\ttest: 11.1698903\ttest1: 23.6591978\tbest: 23.6344024 (597)\ttotal: 46.7s\tremaining: 5m 41s\n",
            "800:\tlearn: 9.0968928\ttest: 9.0968928\ttest1: 23.4967794\tbest: 23.4480566 (731)\ttotal: 1m 2s\tremaining: 5m 27s\n",
            "1000:\tlearn: 7.4999226\ttest: 7.4999226\ttest1: 23.3029310\tbest: 23.3029310 (1000)\ttotal: 1m 18s\tremaining: 5m 12s\n",
            "1200:\tlearn: 6.2268303\ttest: 6.2268303\ttest1: 23.2306710\tbest: 23.2032763 (1158)\ttotal: 1m 33s\tremaining: 4m 56s\n",
            "1400:\tlearn: 5.2526449\ttest: 5.2526449\ttest1: 23.1735124\tbest: 23.1647173 (1382)\ttotal: 1m 50s\tremaining: 4m 44s\n",
            "1600:\tlearn: 4.4453553\ttest: 4.4453553\ttest1: 23.0764276\tbest: 23.0760354 (1599)\ttotal: 2m 6s\tremaining: 4m 28s\n",
            "1800:\tlearn: 3.7782981\ttest: 3.7782981\ttest1: 23.0401895\tbest: 23.0269641 (1790)\ttotal: 2m 22s\tremaining: 4m 12s\n",
            "2000:\tlearn: 3.2257521\ttest: 3.2257521\ttest1: 23.0495526\tbest: 23.0257095 (1863)\ttotal: 2m 37s\tremaining: 3m 56s\n",
            "Stopped by overfitting detector  (200 iterations wait)\n",
            "\n",
            "bestTest = 23.02570946\n",
            "bestIteration = 1863\n",
            "\n",
            "Shrink model to first 1864 iterations.\n",
            "err:  23.025709845930972\n",
            "0:\tlearn: 40.3255443\ttest: 40.3255443\ttest1: 38.6459117\tbest: 38.6459117 (0)\ttotal: 78.7ms\tremaining: 6m 33s\n",
            "200:\tlearn: 18.5589204\ttest: 18.5589204\ttest1: 24.6792365\tbest: 24.6682080 (198)\ttotal: 15.6s\tremaining: 6m 11s\n",
            "400:\tlearn: 13.9842886\ttest: 13.9842886\ttest1: 23.3331800\tbest: 23.3331800 (400)\ttotal: 31.1s\tremaining: 5m 56s\n",
            "600:\tlearn: 11.1243029\ttest: 11.1243029\ttest1: 22.7763060\tbest: 22.7763060 (600)\ttotal: 46.6s\tremaining: 5m 41s\n",
            "800:\tlearn: 9.0916540\ttest: 9.0916540\ttest1: 22.5603758\tbest: 22.5405960 (745)\ttotal: 1m 2s\tremaining: 5m 25s\n",
            "1000:\tlearn: 7.4839058\ttest: 7.4839058\ttest1: 22.3351773\tbest: 22.3351773 (1000)\ttotal: 1m 17s\tremaining: 5m 10s\n",
            "1200:\tlearn: 6.2634279\ttest: 6.2634279\ttest1: 22.1963710\tbest: 22.1869120 (1197)\ttotal: 1m 33s\tremaining: 4m 54s\n",
            "1400:\tlearn: 5.2682685\ttest: 5.2682685\ttest1: 22.1296374\tbest: 22.1175826 (1371)\ttotal: 1m 48s\tremaining: 4m 39s\n",
            "1600:\tlearn: 4.4702299\ttest: 4.4702299\ttest1: 22.0735495\tbest: 22.0672424 (1571)\ttotal: 2m 4s\tremaining: 4m 23s\n",
            "Stopped by overfitting detector  (200 iterations wait)\n",
            "\n",
            "bestTest = 22.06724241\n",
            "bestIteration = 1571\n",
            "\n",
            "Shrink model to first 1572 iterations.\n",
            "err:  22.067242551903032\n",
            "0:\tlearn: 40.3360136\ttest: 40.3360136\ttest1: 39.0164885\tbest: 39.0164885 (0)\ttotal: 77.5ms\tremaining: 6m 27s\n",
            "200:\tlearn: 18.6665069\ttest: 18.6665069\ttest1: 24.0657402\tbest: 24.0657402 (200)\ttotal: 15.5s\tremaining: 6m 11s\n",
            "400:\tlearn: 14.0490032\ttest: 14.0490032\ttest1: 23.1715470\tbest: 23.1636967 (393)\ttotal: 31.1s\tremaining: 5m 56s\n",
            "600:\tlearn: 11.1426550\ttest: 11.1426550\ttest1: 22.6796131\tbest: 22.6796131 (600)\ttotal: 46.5s\tremaining: 5m 40s\n",
            "800:\tlearn: 9.1014829\ttest: 9.1014829\ttest1: 22.4250826\tbest: 22.4250826 (800)\ttotal: 1m 1s\tremaining: 5m 24s\n",
            "1000:\tlearn: 7.5011249\ttest: 7.5011249\ttest1: 22.3179993\tbest: 22.3145331 (994)\ttotal: 1m 17s\tremaining: 5m 10s\n",
            "1200:\tlearn: 6.2489588\ttest: 6.2489588\ttest1: 22.2562969\tbest: 22.2363510 (1178)\ttotal: 1m 33s\tremaining: 4m 54s\n",
            "1400:\tlearn: 5.2631956\ttest: 5.2631956\ttest1: 22.2078329\tbest: 22.1983166 (1371)\ttotal: 1m 48s\tremaining: 4m 39s\n",
            "1600:\tlearn: 4.4421702\ttest: 4.4421702\ttest1: 22.1234305\tbest: 22.1234305 (1600)\ttotal: 2m 4s\tremaining: 4m 23s\n",
            "1800:\tlearn: 3.7661850\ttest: 3.7661850\ttest1: 22.0167844\tbest: 22.0161885 (1798)\ttotal: 2m 20s\tremaining: 4m 8s\n",
            "2000:\tlearn: 3.2289727\ttest: 3.2289727\ttest1: 21.9929626\tbest: 21.9918824 (1982)\ttotal: 2m 35s\tremaining: 3m 53s\n",
            "2200:\tlearn: 2.7692197\ttest: 2.7692197\ttest1: 21.9787016\tbest: 21.9774238 (2196)\ttotal: 2m 51s\tremaining: 3m 37s\n",
            "2400:\tlearn: 2.3751767\ttest: 2.3751767\ttest1: 21.9644917\tbest: 21.9644917 (2400)\ttotal: 3m 6s\tremaining: 3m 22s\n",
            "2600:\tlearn: 2.0464960\ttest: 2.0464960\ttest1: 21.9390869\tbest: 21.9305328 (2526)\ttotal: 3m 22s\tremaining: 3m 6s\n",
            "2800:\tlearn: 1.7718744\ttest: 1.7718744\ttest1: 21.9219081\tbest: 21.9219081 (2800)\ttotal: 3m 37s\tremaining: 2m 51s\n",
            "3000:\tlearn: 1.5257647\ttest: 1.5257647\ttest1: 21.9343371\tbest: 21.9192063 (2817)\ttotal: 3m 53s\tremaining: 2m 35s\n",
            "Stopped by overfitting detector  (200 iterations wait)\n",
            "\n",
            "bestTest = 21.91920631\n",
            "bestIteration = 2817\n",
            "\n",
            "Shrink model to first 2818 iterations.\n",
            "err:  21.91920650501892\n",
            "0:\tlearn: 40.2495261\ttest: 40.2495261\ttest1: 40.2830735\tbest: 40.2830735 (0)\ttotal: 76.6ms\tremaining: 6m 22s\n",
            "200:\tlearn: 18.7101338\ttest: 18.7101338\ttest1: 22.9273356\tbest: 22.9273356 (200)\ttotal: 15.5s\tremaining: 6m 10s\n",
            "400:\tlearn: 13.9303330\ttest: 13.9303330\ttest1: 21.7517536\tbest: 21.7506623 (399)\ttotal: 31s\tremaining: 5m 55s\n",
            "600:\tlearn: 11.1010006\ttest: 11.1010006\ttest1: 21.2733640\tbest: 21.2726085 (598)\ttotal: 46.4s\tremaining: 5m 39s\n",
            "800:\tlearn: 9.0670233\ttest: 9.0670233\ttest1: 21.0638435\tbest: 21.0273690 (761)\ttotal: 1m 2s\tremaining: 5m 25s\n",
            "Stopped by overfitting detector  (200 iterations wait)\n",
            "\n",
            "bestTest = 21.02736896\n",
            "bestIteration = 761\n",
            "\n",
            "Shrink model to first 762 iterations.\n",
            "err:  21.02736888901848\n",
            "0:\tlearn: 40.2029701\ttest: 40.2029701\ttest1: 41.6243888\tbest: 41.6243888 (0)\ttotal: 77.3ms\tremaining: 6m 26s\n",
            "200:\tlearn: 18.6679265\ttest: 18.6679265\ttest1: 23.4785938\tbest: 23.4755171 (195)\ttotal: 15.6s\tremaining: 6m 12s\n",
            "400:\tlearn: 13.9525682\ttest: 13.9525682\ttest1: 22.4108766\tbest: 22.4050359 (399)\ttotal: 31.1s\tremaining: 5m 56s\n",
            "600:\tlearn: 11.0323003\ttest: 11.0323003\ttest1: 22.1950919\tbest: 22.1655481 (591)\ttotal: 46.6s\tremaining: 5m 40s\n",
            "800:\tlearn: 8.9495728\ttest: 8.9495728\ttest1: 21.8626894\tbest: 21.8481166 (787)\ttotal: 1m 2s\tremaining: 5m 25s\n",
            "1000:\tlearn: 7.3931876\ttest: 7.3931876\ttest1: 21.7407306\tbest: 21.7274289 (979)\ttotal: 1m 17s\tremaining: 5m 10s\n",
            "1200:\tlearn: 6.1955991\ttest: 6.1955991\ttest1: 21.6722801\tbest: 21.6695920 (1198)\ttotal: 1m 34s\tremaining: 4m 59s\n",
            "1400:\tlearn: 5.2090663\ttest: 5.2090663\ttest1: 21.5923481\tbest: 21.5894501 (1396)\ttotal: 1m 50s\tremaining: 4m 43s\n",
            "1600:\tlearn: 4.4209683\ttest: 4.4209683\ttest1: 21.5497588\tbest: 21.5369012 (1475)\ttotal: 2m 5s\tremaining: 4m 27s\n",
            "1800:\tlearn: 3.7330390\ttest: 3.7330390\ttest1: 21.4947114\tbest: 21.4829271 (1734)\ttotal: 2m 21s\tremaining: 4m 11s\n",
            "2000:\tlearn: 3.1849787\ttest: 3.1849787\ttest1: 21.4697018\tbest: 21.4556831 (1926)\ttotal: 2m 37s\tremaining: 3m 55s\n",
            "Stopped by overfitting detector  (200 iterations wait)\n",
            "\n",
            "bestTest = 21.45568305\n",
            "bestIteration = 1926\n",
            "\n",
            "Shrink model to first 1927 iterations.\n",
            "err:  21.45568292565179\n",
            "0:\tlearn: 39.9752611\ttest: 39.9752611\ttest1: 42.7216821\tbest: 42.7216821 (0)\ttotal: 76.1ms\tremaining: 6m 20s\n",
            "200:\tlearn: 18.6873486\ttest: 18.6873486\ttest1: 25.3251105\tbest: 25.3226036 (198)\ttotal: 15.6s\tremaining: 6m 11s\n",
            "400:\tlearn: 14.1755577\ttest: 14.1755577\ttest1: 24.2777607\tbest: 24.2654741 (394)\ttotal: 31s\tremaining: 5m 55s\n",
            "600:\tlearn: 11.2402725\ttest: 11.2402725\ttest1: 23.7855228\tbest: 23.7843534 (599)\ttotal: 46.5s\tremaining: 5m 40s\n",
            "800:\tlearn: 9.1229660\ttest: 9.1229660\ttest1: 23.4983693\tbest: 23.4983693 (800)\ttotal: 1m 1s\tremaining: 5m 24s\n",
            "1000:\tlearn: 7.5522934\ttest: 7.5522934\ttest1: 23.3819595\tbest: 23.3819595 (1000)\ttotal: 1m 17s\tremaining: 5m 9s\n",
            "1200:\tlearn: 6.2628687\ttest: 6.2628687\ttest1: 23.3963507\tbest: 23.3748201 (1129)\ttotal: 1m 33s\tremaining: 4m 54s\n",
            "1400:\tlearn: 5.2614718\ttest: 5.2614718\ttest1: 23.2582987\tbest: 23.2582987 (1400)\ttotal: 1m 48s\tremaining: 4m 39s\n",
            "1600:\tlearn: 4.4622843\ttest: 4.4622843\ttest1: 23.1452926\tbest: 23.1452926 (1600)\ttotal: 2m 4s\tremaining: 4m 23s\n",
            "1800:\tlearn: 3.7903927\ttest: 3.7903927\ttest1: 23.1218691\tbest: 23.1180035 (1641)\ttotal: 2m 19s\tremaining: 4m 8s\n",
            "2000:\tlearn: 3.2200017\ttest: 3.2200017\ttest1: 23.0990783\tbest: 23.0876150 (1955)\ttotal: 2m 35s\tremaining: 3m 53s\n",
            "2200:\tlearn: 2.7512936\ttest: 2.7512936\ttest1: 23.0878790\tbest: 23.0819325 (2192)\ttotal: 2m 51s\tremaining: 3m 37s\n",
            "Stopped by overfitting detector  (200 iterations wait)\n",
            "\n",
            "bestTest = 23.08193251\n",
            "bestIteration = 2192\n",
            "\n",
            "Shrink model to first 2193 iterations.\n",
            "err:  23.081932696315334\n",
            "0:\tlearn: 40.3101864\ttest: 40.3101864\ttest1: 38.3758215\tbest: 38.3758215 (0)\ttotal: 76.3ms\tremaining: 6m 21s\n",
            "200:\tlearn: 18.5300099\ttest: 18.5300099\ttest1: 24.4798489\tbest: 24.4798489 (200)\ttotal: 15.6s\tremaining: 6m 12s\n",
            "400:\tlearn: 13.9776861\ttest: 13.9776861\ttest1: 23.5322861\tbest: 23.5322861 (400)\ttotal: 31.2s\tremaining: 5m 57s\n",
            "600:\tlearn: 11.1768234\ttest: 11.1768234\ttest1: 22.9532575\tbest: 22.9493678 (599)\ttotal: 46.7s\tremaining: 5m 41s\n",
            "800:\tlearn: 9.0597343\ttest: 9.0597343\ttest1: 22.6141236\tbest: 22.6009812 (796)\ttotal: 1m 2s\tremaining: 5m 25s\n",
            "1000:\tlearn: 7.5045138\ttest: 7.5045138\ttest1: 22.5008777\tbest: 22.4964678 (995)\ttotal: 1m 17s\tremaining: 5m 10s\n",
            "1200:\tlearn: 6.2556477\ttest: 6.2556477\ttest1: 22.3478979\tbest: 22.3394701 (1193)\ttotal: 1m 33s\tremaining: 4m 54s\n",
            "1400:\tlearn: 5.2750707\ttest: 5.2750707\ttest1: 22.2989177\tbest: 22.2841951 (1361)\ttotal: 1m 48s\tremaining: 4m 39s\n",
            "1600:\tlearn: 4.4615398\ttest: 4.4615398\ttest1: 22.2866401\tbest: 22.2627218 (1571)\ttotal: 2m 4s\tremaining: 4m 23s\n",
            "1800:\tlearn: 3.7752326\ttest: 3.7752326\ttest1: 22.2431147\tbest: 22.2390858 (1792)\ttotal: 2m 20s\tremaining: 4m 8s\n",
            "2000:\tlearn: 3.2245801\ttest: 3.2245801\ttest1: 22.2071219\tbest: 22.2071219 (2000)\ttotal: 2m 35s\tremaining: 3m 53s\n",
            "2200:\tlearn: 2.7548921\ttest: 2.7548921\ttest1: 22.2134860\tbest: 22.1926314 (2082)\ttotal: 2m 51s\tremaining: 3m 37s\n",
            "Stopped by overfitting detector  (200 iterations wait)\n",
            "\n",
            "bestTest = 22.19263139\n",
            "bestIteration = 2082\n",
            "\n",
            "Shrink model to first 2083 iterations.\n",
            "err:  22.19263108025873\n",
            "0:\tlearn: 40.2372751\ttest: 40.2372751\ttest1: 39.5062699\tbest: 39.5062699 (0)\ttotal: 77.6ms\tremaining: 6m 28s\n",
            "200:\tlearn: 18.6177315\ttest: 18.6177315\ttest1: 25.8164432\tbest: 25.7954700 (199)\ttotal: 15.6s\tremaining: 6m 11s\n",
            "400:\tlearn: 13.9433224\ttest: 13.9433224\ttest1: 24.5489698\tbest: 24.5489698 (400)\ttotal: 31.1s\tremaining: 5m 56s\n",
            "600:\tlearn: 11.0678258\ttest: 11.0678258\ttest1: 23.9059608\tbest: 23.8966854 (597)\ttotal: 46.6s\tremaining: 5m 41s\n",
            "800:\tlearn: 8.9866349\ttest: 8.9866349\ttest1: 23.5694571\tbest: 23.5635749 (796)\ttotal: 1m 2s\tremaining: 5m 25s\n",
            "1000:\tlearn: 7.3946596\ttest: 7.3946596\ttest1: 23.3933467\tbest: 23.3920246 (999)\ttotal: 1m 17s\tremaining: 5m 10s\n",
            "1200:\tlearn: 6.1721142\ttest: 6.1721142\ttest1: 23.3044636\tbest: 23.3044636 (1200)\ttotal: 1m 33s\tremaining: 4m 55s\n",
            "1400:\tlearn: 5.1788409\ttest: 5.1788409\ttest1: 23.2013175\tbest: 23.2013175 (1400)\ttotal: 1m 48s\tremaining: 4m 39s\n",
            "1600:\tlearn: 4.3836433\ttest: 4.3836433\ttest1: 23.1140350\tbest: 23.1140350 (1600)\ttotal: 2m 4s\tremaining: 4m 24s\n",
            "1800:\tlearn: 3.7432574\ttest: 3.7432574\ttest1: 23.0750452\tbest: 23.0733526 (1796)\ttotal: 2m 20s\tremaining: 4m 8s\n",
            "2000:\tlearn: 3.1976351\ttest: 3.1976351\ttest1: 23.0241154\tbest: 23.0220076 (1994)\ttotal: 2m 35s\tremaining: 3m 53s\n",
            "2200:\tlearn: 2.7444357\ttest: 2.7444357\ttest1: 23.0101091\tbest: 23.0057872 (2129)\ttotal: 2m 53s\tremaining: 3m 40s\n",
            "2400:\tlearn: 2.3606729\ttest: 2.3606729\ttest1: 22.9854733\tbest: 22.9845754 (2395)\ttotal: 3m 8s\tremaining: 3m 24s\n",
            "2600:\tlearn: 2.0322732\ttest: 2.0322732\ttest1: 22.9570772\tbest: 22.9544701 (2583)\ttotal: 3m 24s\tremaining: 3m 8s\n",
            "2800:\tlearn: 1.7603679\ttest: 1.7603679\ttest1: 22.9709213\tbest: 22.9529765 (2658)\ttotal: 3m 39s\tremaining: 2m 52s\n",
            "Stopped by overfitting detector  (200 iterations wait)\n",
            "\n",
            "bestTest = 22.95297654\n",
            "bestIteration = 2658\n",
            "\n",
            "Shrink model to first 2659 iterations.\n",
            "err:  22.952976358290744\n",
            "0:\tlearn: 40.3027167\ttest: 40.3027167\ttest1: 39.9886165\tbest: 39.9886165 (0)\ttotal: 78.2ms\tremaining: 6m 31s\n",
            "200:\tlearn: 18.5956369\ttest: 18.5956369\ttest1: 25.3158600\tbest: 25.3158600 (200)\ttotal: 15.5s\tremaining: 6m 10s\n",
            "400:\tlearn: 14.0106798\ttest: 14.0106798\ttest1: 24.8249253\tbest: 24.8005189 (384)\ttotal: 31s\tremaining: 5m 55s\n",
            "600:\tlearn: 11.1547859\ttest: 11.1547859\ttest1: 24.3765404\tbest: 24.3721730 (598)\ttotal: 46.4s\tremaining: 5m 39s\n",
            "800:\tlearn: 9.1013138\ttest: 9.1013138\ttest1: 24.0427740\tbest: 24.0427740 (800)\ttotal: 1m 1s\tremaining: 5m 24s\n",
            "1000:\tlearn: 7.4668754\ttest: 7.4668754\ttest1: 23.8872275\tbest: 23.8788433 (991)\ttotal: 1m 17s\tremaining: 5m 9s\n",
            "1200:\tlearn: 6.2548365\ttest: 6.2548365\ttest1: 23.7607930\tbest: 23.7607930 (1200)\ttotal: 1m 32s\tremaining: 4m 53s\n",
            "1400:\tlearn: 5.2538671\ttest: 5.2538671\ttest1: 23.7367607\tbest: 23.7348041 (1366)\ttotal: 1m 48s\tremaining: 4m 38s\n",
            "1600:\tlearn: 4.4275497\ttest: 4.4275497\ttest1: 23.7398416\tbest: 23.7182286 (1578)\ttotal: 2m 3s\tremaining: 4m 23s\n",
            "1800:\tlearn: 3.7709991\ttest: 3.7709991\ttest1: 23.7015974\tbest: 23.6992448 (1769)\ttotal: 2m 19s\tremaining: 4m 7s\n",
            "2000:\tlearn: 3.2059532\ttest: 3.2059532\ttest1: 23.6612279\tbest: 23.6556684 (1946)\ttotal: 2m 35s\tremaining: 3m 52s\n",
            "2200:\tlearn: 2.7559935\ttest: 2.7559935\ttest1: 23.6300102\tbest: 23.6285448 (2183)\ttotal: 2m 50s\tremaining: 3m 37s\n",
            "2400:\tlearn: 2.3588065\ttest: 2.3588065\ttest1: 23.6128305\tbest: 23.6101937 (2336)\ttotal: 3m 6s\tremaining: 3m 21s\n",
            "2600:\tlearn: 2.0310939\ttest: 2.0310939\ttest1: 23.5988171\tbest: 23.5938532 (2478)\ttotal: 3m 21s\tremaining: 3m 6s\n",
            "Stopped by overfitting detector  (200 iterations wait)\n",
            "\n",
            "bestTest = 23.59385323\n",
            "bestIteration = 2478\n",
            "\n",
            "Shrink model to first 2479 iterations.\n",
            "err:  23.593853180670912\n",
            "0:\tlearn: 40.3133567\ttest: 40.3133567\ttest1: 38.4216752\tbest: 38.4216752 (0)\ttotal: 77.9ms\tremaining: 6m 29s\n",
            "200:\tlearn: 18.5351295\ttest: 18.5351295\ttest1: 25.0794284\tbest: 25.0794284 (200)\ttotal: 15.6s\tremaining: 6m 11s\n",
            "400:\tlearn: 14.0712090\ttest: 14.0712090\ttest1: 24.1763458\tbest: 24.1742213 (398)\ttotal: 31.1s\tremaining: 5m 56s\n",
            "600:\tlearn: 11.2283119\ttest: 11.2283119\ttest1: 23.3785283\tbest: 23.3785283 (600)\ttotal: 46.6s\tremaining: 5m 41s\n",
            "800:\tlearn: 9.1316227\ttest: 9.1316227\ttest1: 23.0947359\tbest: 23.0947359 (800)\ttotal: 1m 2s\tremaining: 5m 25s\n",
            "1000:\tlearn: 7.4893484\ttest: 7.4893484\ttest1: 22.7073351\tbest: 22.7073351 (1000)\ttotal: 1m 17s\tremaining: 5m 10s\n",
            "1200:\tlearn: 6.2431172\ttest: 6.2431172\ttest1: 22.6216763\tbest: 22.6155442 (1198)\ttotal: 1m 33s\tremaining: 4m 54s\n",
            "1400:\tlearn: 5.2307179\ttest: 5.2307179\ttest1: 22.4836826\tbest: 22.4834448 (1396)\ttotal: 1m 48s\tremaining: 4m 39s\n",
            "1600:\tlearn: 4.4057232\ttest: 4.4057232\ttest1: 22.4289766\tbest: 22.4213644 (1596)\ttotal: 2m 4s\tremaining: 4m 24s\n",
            "1800:\tlearn: 3.7532065\ttest: 3.7532065\ttest1: 22.3976587\tbest: 22.3788089 (1705)\ttotal: 2m 19s\tremaining: 4m 8s\n",
            "Stopped by overfitting detector  (200 iterations wait)\n",
            "\n",
            "bestTest = 22.37880893\n",
            "bestIteration = 1705\n",
            "\n",
            "Shrink model to first 1706 iterations.\n",
            "err:  22.37880911443636\n",
            "0:\tlearn: 40.1291292\ttest: 40.1291292\ttest1: 42.9847112\tbest: 42.9847112 (0)\ttotal: 77.3ms\tremaining: 6m 26s\n",
            "200:\tlearn: 18.5334325\ttest: 18.5334325\ttest1: 26.8958084\tbest: 26.8958084 (200)\ttotal: 15.4s\tremaining: 6m 8s\n",
            "400:\tlearn: 14.0019331\ttest: 14.0019331\ttest1: 25.7488425\tbest: 25.7488425 (400)\ttotal: 30.8s\tremaining: 5m 53s\n",
            "600:\tlearn: 11.1403528\ttest: 11.1403528\ttest1: 25.1925107\tbest: 25.1925107 (600)\ttotal: 46.3s\tremaining: 5m 38s\n",
            "800:\tlearn: 9.0911354\ttest: 9.0911354\ttest1: 24.9427465\tbest: 24.9427465 (800)\ttotal: 1m 1s\tremaining: 5m 23s\n",
            "1000:\tlearn: 7.4959946\ttest: 7.4959946\ttest1: 24.6866179\tbest: 24.6866179 (1000)\ttotal: 1m 17s\tremaining: 5m 8s\n",
            "1200:\tlearn: 6.2674539\ttest: 6.2674539\ttest1: 24.5538038\tbest: 24.5230785 (1170)\ttotal: 1m 32s\tremaining: 4m 53s\n",
            "1400:\tlearn: 5.2540337\ttest: 5.2540337\ttest1: 24.4766775\tbest: 24.4731437 (1393)\ttotal: 1m 48s\tremaining: 4m 38s\n",
            "1600:\tlearn: 4.4462344\ttest: 4.4462344\ttest1: 24.4213427\tbest: 24.4165306 (1554)\ttotal: 2m 3s\tremaining: 4m 23s\n",
            "1800:\tlearn: 3.7754953\ttest: 3.7754953\ttest1: 24.3620337\tbest: 24.3616876 (1799)\ttotal: 2m 19s\tremaining: 4m 7s\n",
            "2000:\tlearn: 3.2344382\ttest: 3.2344382\ttest1: 24.3428412\tbest: 24.3394612 (1989)\ttotal: 2m 35s\tremaining: 3m 52s\n",
            "2200:\tlearn: 2.7685777\ttest: 2.7685777\ttest1: 24.3236314\tbest: 24.3221403 (2180)\ttotal: 2m 50s\tremaining: 3m 36s\n",
            "2400:\tlearn: 2.3949253\ttest: 2.3949253\ttest1: 24.2920106\tbest: 24.2873041 (2381)\ttotal: 3m 7s\tremaining: 3m 23s\n",
            "2600:\tlearn: 2.0633171\ttest: 2.0633171\ttest1: 24.2726954\tbest: 24.2704865 (2591)\ttotal: 3m 23s\tremaining: 3m 7s\n",
            "2800:\tlearn: 1.7723446\ttest: 1.7723446\ttest1: 24.2615666\tbest: 24.2615666 (2800)\ttotal: 3m 38s\tremaining: 2m 51s\n",
            "3000:\tlearn: 1.5351622\ttest: 1.5351622\ttest1: 24.2568203\tbest: 24.2562337 (2999)\ttotal: 3m 54s\tremaining: 2m 36s\n",
            "3200:\tlearn: 1.3320583\ttest: 1.3320583\ttest1: 24.2472974\tbest: 24.2448250 (3073)\ttotal: 4m 9s\tremaining: 2m 20s\n",
            "3400:\tlearn: 1.1575297\ttest: 1.1575297\ttest1: 24.2437464\tbest: 24.2397267 (3377)\ttotal: 4m 25s\tremaining: 2m 4s\n",
            "3600:\tlearn: 1.0090671\ttest: 1.0090671\ttest1: 24.2403057\tbest: 24.2383831 (3579)\ttotal: 4m 41s\tremaining: 1m 49s\n",
            "3800:\tlearn: 0.8775672\ttest: 0.8775672\ttest1: 24.2342476\tbest: 24.2341390 (3798)\ttotal: 4m 56s\tremaining: 1m 33s\n",
            "4000:\tlearn: 0.7692448\ttest: 0.7692448\ttest1: 24.2295141\tbest: 24.2291590 (3999)\ttotal: 5m 12s\tremaining: 1m 17s\n",
            "4200:\tlearn: 0.6720400\ttest: 0.6720400\ttest1: 24.2257068\tbest: 24.2257068 (4200)\ttotal: 5m 29s\tremaining: 1m 2s\n",
            "4400:\tlearn: 0.5881158\ttest: 0.5881158\ttest1: 24.2220132\tbest: 24.2199265 (4352)\ttotal: 5m 46s\tremaining: 47.1s\n",
            "4600:\tlearn: 0.5165693\ttest: 0.5165693\ttest1: 24.2179745\tbest: 24.2179409 (4599)\ttotal: 6m 1s\tremaining: 31.4s\n",
            "4800:\tlearn: 0.4526341\ttest: 0.4526341\ttest1: 24.2183527\tbest: 24.2169859 (4780)\ttotal: 6m 17s\tremaining: 15.7s\n",
            "4999:\tlearn: 0.3940131\ttest: 0.3940131\ttest1: 24.2156999\tbest: 24.2153069 (4902)\ttotal: 6m 33s\tremaining: 0us\n",
            "\n",
            "bestTest = 24.21530691\n",
            "bestIteration = 4902\n",
            "\n",
            "Shrink model to first 4903 iterations.\n",
            "err:  24.215306777079714\n"
          ],
          "name": "stdout"
        },
        {
          "output_type": "execute_result",
          "data": {
            "text/plain": [
              "22.790050240627117"
            ]
          },
          "metadata": {
            "tags": []
          },
          "execution_count": 117
        }
      ]
    },
    {
      "cell_type": "code",
      "metadata": {
        "id": "3Oy1kH8gm9OO",
        "colab_type": "code",
        "outputId": "27b74a6b-2e32-4f91-b23b-9a82e4a0a4c5",
        "colab": {
          "base_uri": "https://localhost:8080/",
          "height": 34
        }
      },
      "source": [
        "np.mean(errcb2)"
      ],
      "execution_count": 0,
      "outputs": [
        {
          "output_type": "execute_result",
          "data": {
            "text/plain": [
              "22.790050240627117"
            ]
          },
          "metadata": {
            "tags": []
          },
          "execution_count": 118
        }
      ]
    },
    {
      "cell_type": "code",
      "metadata": {
        "id": "SnMxF4rWm9OR",
        "colab_type": "code",
        "colab": {}
      },
      "source": [
        "d = {'ID': test_id, 'target': np.mean(y_pred_totcb2, 0)}\n",
        "sub = pd.DataFrame(data=d)\n",
        "sub = sub[['ID', 'target']]"
      ],
      "execution_count": 0,
      "outputs": []
    },
    {
      "cell_type": "code",
      "metadata": {
        "id": "_azuEaJpICfS",
        "colab_type": "code",
        "colab": {}
      },
      "source": [
        "sub.to_csv('indianda.csv',index=False)\n",
        "from google.colab import files\n",
        "files.download(\"indianda.csv\")"
      ],
      "execution_count": 0,
      "outputs": []
    }
  ]
}