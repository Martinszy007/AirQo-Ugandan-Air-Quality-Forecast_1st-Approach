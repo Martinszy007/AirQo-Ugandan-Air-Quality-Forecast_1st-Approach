{
  "nbformat": 4,
  "nbformat_minor": 0,
  "metadata": {
    "kernelspec": {
      "language": "python",
      "display_name": "Python 3",
      "name": "python3"
    },
    "language_info": {
      "pygments_lexer": "ipython3",
      "nbconvert_exporter": "python",
      "version": "3.6.4",
      "file_extension": ".py",
      "codemirror_mode": {
        "name": "ipython",
        "version": 3
      },
      "name": "python",
      "mimetype": "text/x-python"
    },
    "colab": {
      "name": "new_data_creation.ipynb",
      "provenance": [],
      "include_colab_link": true
    }
  },
  "cells": [
    {
      "cell_type": "markdown",
      "metadata": {
        "id": "view-in-github",
        "colab_type": "text"
      },
      "source": [
        "<a href=\"https://colab.research.google.com/github/Az-Ks/AirQo-Ugandan-Air-Quality-Forecast/blob/master/new_data_creation.ipynb\" target=\"_parent\"><img src=\"https://colab.research.google.com/assets/colab-badge.svg\" alt=\"Open In Colab\"/></a>"
      ]
    },
    {
      "cell_type": "code",
      "metadata": {
        "id": "lygrd_4THhsP",
        "trusted": true,
        "colab_type": "code",
        "colab": {}
      },
      "source": [
        "import pandas as pd \n",
        "import numpy as np \n",
        "from tqdm import tqdm\n",
        "import math\n",
        "import gc"
      ],
      "execution_count": 0,
      "outputs": []
    },
    {
      "cell_type": "code",
      "metadata": {
        "id": "laCuoZYCHhsW",
        "trusted": true,
        "colab_type": "code",
        "colab": {}
      },
      "source": [
        "\n",
        "pd.set_option('display.max_rows', 500)\n",
        "pd.set_option('display.max_columns', 500)\n",
        "pd.set_option('display.width', 1000)"
      ],
      "execution_count": 0,
      "outputs": []
    },
    {
      "cell_type": "code",
      "metadata": {
        "id": "tRthNH90Hhsa",
        "trusted": true,
        "colab_type": "code",
        "colab": {}
      },
      "source": [
        "train=pd.read_csv(\"../input/airqo-ugandan-air-quality-forecast-challenge-zindi/Train (1).csv\")\n",
        "test=pd.read_csv(\"../input/airqo-ugandan-air-quality-forecast-challenge-zindi/Test (1).csv\")"
      ],
      "execution_count": 0,
      "outputs": []
    },
    {
      "cell_type": "code",
      "metadata": {
        "id": "j_1ClVwsHhsf",
        "trusted": true,
        "colab_type": "code",
        "colab": {}
      },
      "source": [
        "train.head()"
      ],
      "execution_count": 0,
      "outputs": []
    },
    {
      "cell_type": "code",
      "metadata": {
        "id": "7lskkR2rHhss",
        "trusted": true,
        "colab_type": "code",
        "colab": {}
      },
      "source": [
        "# covert features  fron string to List of values \n",
        "def replace_nan(x):\n",
        "    if x==\"nan\":\n",
        "        return np.nan\n",
        "    else :\n",
        "        return float(x)\n",
        "features=[\"temp\",\"precip\",\"rel_humidity\",\"wind_dir\",\"wind_spd\",\"atmos_press\"]\n"
      ],
      "execution_count": 0,
      "outputs": []
    },
    {
      "cell_type": "code",
      "metadata": {
        "trusted": true,
        "id": "zBgcfd_2nDdL",
        "colab_type": "code",
        "colab": {}
      },
      "source": [
        "train1 = train.copy()\n",
        "test1 = test.copy()"
      ],
      "execution_count": 0,
      "outputs": []
    },
    {
      "cell_type": "code",
      "metadata": {
        "trusted": true,
        "id": "cr3UXTc3nDdO",
        "colab_type": "code",
        "colab": {}
      },
      "source": [
        "# covert features  fron string to List of values \n",
        "def replace_nan1(x):\n",
        "    if x==\" \":\n",
        "        return np.nan\n",
        "    else :\n",
        "        return float(x)\n",
        "features=[\"temp\",\"precip\",\"rel_humidity\",\"wind_dir\",\"wind_spd\",\"atmos_press\"]\n",
        "for feature in features : \n",
        "    train1[feature]=train1[feature].apply(lambda x: [ replace_nan1(X) for X in x.replace(\"nan\",\" \").split(\",\")])\n",
        "    test1[feature]=test1[feature].apply(lambda x: [ replace_nan1(X)  for X in x.replace(\"nan\",\" \").split(\",\")]) "
      ],
      "execution_count": 0,
      "outputs": []
    },
    {
      "cell_type": "markdown",
      "metadata": {
        "id": "mApRDmFGHhsz",
        "colab_type": "text"
      },
      "source": [
        "### Features engineering part"
      ]
    },
    {
      "cell_type": "code",
      "metadata": {
        "trusted": true,
        "id": "ZD2E9Np_nDdR",
        "colab_type": "code",
        "colab": {}
      },
      "source": [
        "def percentile(n):\n",
        "    def percentile_(x):\n",
        "        return np.percentile(x, n)\n",
        "    percentile_.__name__ = 'percentile_%s' % n\n",
        "    return percentile_"
      ],
      "execution_count": 0,
      "outputs": []
    },
    {
      "cell_type": "code",
      "metadata": {
        "id": "sg8-zujFHhs1",
        "trusted": true,
        "colab_type": "code",
        "colab": {}
      },
      "source": [
        "def aggregate_features(x,col_name):\n",
        "    x[\"max_\"+col_name]=x[col_name].apply(np.max)\n",
        "    x[\"min_\"+col_name]=x[col_name].apply(np.min)\n",
        "    x[\"mean_\"+col_name]=x[col_name].apply(np.mean)\n",
        "    x[\"std_\"+col_name]=x[col_name].apply(np.std)\n",
        "    x[\"var_\"+col_name]=x[col_name].apply(np.var)\n",
        "    x[\"median_\"+col_name]=x[col_name].apply(np.median)\n",
        "    x[\"ptp_\"+col_name]=x[col_name].apply(np.ptp)\n",
        "    x[\"p1_\"+col_name]=x[col_name].apply(percentile(1))\n",
        "    x[\"p5_\"+col_name]=x[col_name].apply(percentile(5))\n",
        "    x[\"p10_\"+col_name]=x[col_name].apply(percentile(10))\n",
        "    x[\"p20_\"+col_name]=x[col_name].apply(percentile(20))\n",
        "    x[\"p30_\"+col_name]=x[col_name].apply(percentile(30))\n",
        "    x[\"p40_\"+col_name]=x[col_name].apply(percentile(40))\n",
        "    x[\"p60_\"+col_name]=x[col_name].apply(percentile(60))\n",
        "    x[\"p70_\"+col_name]=x[col_name].apply(percentile(70))\n",
        "    x[\"p80_\"+col_name]=x[col_name].apply(percentile(80))\n",
        "    x[\"p90_\"+col_name]=x[col_name].apply(percentile(90))\n",
        "    x[\"p95_\"+col_name]=x[col_name].apply(percentile(95))\n",
        "    x[\"p99_\"+col_name]=x[col_name].apply(percentile(99))\n",
        "    return x  \n",
        "def remove_nan_values(x):\n",
        "    return [e for e in x if not math.isnan(e)]\n"
      ],
      "execution_count": 0,
      "outputs": []
    },
    {
      "cell_type": "code",
      "metadata": {
        "id": "jSHXJxduHhs6",
        "trusted": true,
        "colab_type": "code",
        "colab": {}
      },
      "source": [
        "data=pd.concat([train,test],sort=False).reset_index(drop=True)\n",
        "data2=pd.concat([train1,test1],sort=False).reset_index(drop=True)\n",
        "data2.columns.tolist()"
      ],
      "execution_count": 0,
      "outputs": []
    },
    {
      "cell_type": "code",
      "metadata": {
        "trusted": true,
        "id": "CG8sz-usnDdZ",
        "colab_type": "code",
        "colab": {}
      },
      "source": [
        "for col_name in tqdm(features):\n",
        "    data2[col_name]=data2[col_name].apply(remove_nan_values)"
      ],
      "execution_count": 0,
      "outputs": []
    },
    {
      "cell_type": "code",
      "metadata": {
        "trusted": true,
        "id": "hw9abEfknDda",
        "colab_type": "code",
        "colab": {}
      },
      "source": [
        "for col_name in tqdm(features):\n",
        "    data2=aggregate_features(data2,col_name)"
      ],
      "execution_count": 0,
      "outputs": []
    },
    {
      "cell_type": "code",
      "metadata": {
        "trusted": true,
        "id": "Rq5JJrUWnDdd",
        "colab_type": "code",
        "colab": {}
      },
      "source": [
        "data2.head(2)"
      ],
      "execution_count": 0,
      "outputs": []
    },
    {
      "cell_type": "code",
      "metadata": {
        "id": "1dYviSGeHhs_",
        "trusted": true,
        "colab_type": "code",
        "colab": {}
      },
      "source": [
        "data.shape,data2.shape"
      ],
      "execution_count": 0,
      "outputs": []
    },
    {
      "cell_type": "code",
      "metadata": {
        "trusted": true,
        "id": "n77Rz_oCnDdg",
        "colab_type": "code",
        "colab": {}
      },
      "source": [
        "#['temp_'+str(i) for i in temp_df.columns]"
      ],
      "execution_count": 0,
      "outputs": []
    },
    {
      "cell_type": "code",
      "metadata": {
        "trusted": true,
        "id": "BBWMTSZ3nDdi",
        "colab_type": "code",
        "colab": {}
      },
      "source": [
        "data1 = pd.DataFrame()\n",
        "for col_name in tqdm(features):\n",
        "    temp_df = data[col_name].apply(lambda x: pd.Series(x.split(',')))\n",
        "    temp_df.columns = [col_name +str(i) for i in temp_df.columns]\n",
        "    data1 = pd.concat([data1,temp_df],axis=1)"
      ],
      "execution_count": 0,
      "outputs": []
    },
    {
      "cell_type": "code",
      "metadata": {
        "trusted": true,
        "id": "sA4jCX2mnDdk",
        "colab_type": "code",
        "colab": {}
      },
      "source": [
        "for col_name in tqdm(data1.columns):\n",
        "    data1[col_name] = data1[col_name].apply(replace_nan)"
      ],
      "execution_count": 0,
      "outputs": []
    },
    {
      "cell_type": "code",
      "metadata": {
        "trusted": true,
        "id": "9GmmluWunDdm",
        "colab_type": "code",
        "colab": {}
      },
      "source": [
        "data1"
      ],
      "execution_count": 0,
      "outputs": []
    },
    {
      "cell_type": "code",
      "metadata": {
        "trusted": true,
        "id": "bQokampdnDdo",
        "colab_type": "code",
        "colab": {}
      },
      "source": [
        "for col_name in tqdm(data1.columns):\n",
        "    data1[col_name] = data1[col_name].fillna(0)"
      ],
      "execution_count": 0,
      "outputs": []
    },
    {
      "cell_type": "code",
      "metadata": {
        "trusted": true,
        "id": "072VFzctnDdq",
        "colab_type": "code",
        "colab": {}
      },
      "source": [
        "data1.head()"
      ],
      "execution_count": 0,
      "outputs": []
    },
    {
      "cell_type": "code",
      "metadata": {
        "trusted": true,
        "id": "zgHkBgQ2nDds",
        "colab_type": "code",
        "colab": {}
      },
      "source": [
        "data11 = data1.copy()\n",
        "data11['ID'] =  data['ID']"
      ],
      "execution_count": 0,
      "outputs": []
    },
    {
      "cell_type": "code",
      "metadata": {
        "trusted": true,
        "id": "ddnjMZ-7nDdt",
        "colab_type": "code",
        "colab": {}
      },
      "source": [
        "data11.head()"
      ],
      "execution_count": 0,
      "outputs": []
    },
    {
      "cell_type": "code",
      "metadata": {
        "trusted": true,
        "id": "9onPi6UWnDdv",
        "colab_type": "code",
        "colab": {}
      },
      "source": [
        "def fun(x):\n",
        "    if x.split('_')[0] == 'atmos':\n",
        "        return x"
      ],
      "execution_count": 0,
      "outputs": []
    },
    {
      "cell_type": "code",
      "metadata": {
        "trusted": true,
        "id": "O5-PQIwcnDdx",
        "colab_type": "code",
        "colab": {}
      },
      "source": [
        "atmos = list(filter(fun,data11.columns))"
      ],
      "execution_count": 0,
      "outputs": []
    },
    {
      "cell_type": "code",
      "metadata": {
        "trusted": true,
        "id": "lBVOMbj-nDdz",
        "colab_type": "code",
        "colab": {}
      },
      "source": [
        "data11 = data11[['ID']+atmos]"
      ],
      "execution_count": 0,
      "outputs": []
    },
    {
      "cell_type": "code",
      "metadata": {
        "trusted": true,
        "id": "mWuRl8mKnDd1",
        "colab_type": "code",
        "colab": {}
      },
      "source": [
        "data11_atmos = pd.melt(data11,id_vars=[\"ID\"],var_name='atmos', value_name='value_atmos')\n"
      ],
      "execution_count": 0,
      "outputs": []
    },
    {
      "cell_type": "code",
      "metadata": {
        "trusted": true,
        "id": "fS87ZClWnDd4",
        "colab_type": "code",
        "colab": {}
      },
      "source": [
        "for i in tqdm(range(1, 15)):\n",
        "    data11_atmos[f'magic_{i}'] = data11_atmos.sort_values(by='ID')['value_atmos'].shift(i).expanding().mean().fillna(method='ffill').sort_index()\n",
        "    data11_atmos[f'magic2_{i}'] = data11_atmos.sort_values(by='ID')['value_atmos'].shift(-i).expanding().mean().fillna(method='bfill').sort_index()"
      ],
      "execution_count": 0,
      "outputs": []
    },
    {
      "cell_type": "code",
      "metadata": {
        "trusted": true,
        "id": "xmVcBhHlnDd5",
        "colab_type": "code",
        "colab": {}
      },
      "source": [
        "data11_atmos[data11_atmos.ID == 'ID_train_1'].head(3)"
      ],
      "execution_count": 0,
      "outputs": []
    },
    {
      "cell_type": "code",
      "metadata": {
        "trusted": true,
        "id": "cpWEAZ_9nDd7",
        "colab_type": "code",
        "colab": {}
      },
      "source": [
        "data11_piv = pd.pivot_table(data11_atmos,index='ID',columns = 'atmos',values = 'magic_1')\n",
        "data11_piv.columns = ['atmos_magic_1'+i for i in data11_piv.columns]\n",
        "for i in tqdm(range(2,15)):\n",
        "    temp = pd.pivot_table(data11_atmos,index='ID',columns = 'atmos',values = 'magic_'+str(i))\n",
        "    temp.columns = ['atmos_magic_'+str(i)+j for j in temp.columns]\n",
        "    data11_piv = pd.concat([data11_piv,temp],axis=1)"
      ],
      "execution_count": 0,
      "outputs": []
    },
    {
      "cell_type": "code",
      "metadata": {
        "trusted": true,
        "id": "2Kt3ZD8unDd-",
        "colab_type": "code",
        "colab": {}
      },
      "source": [
        "data11_piv.reset_index(inplace=True)"
      ],
      "execution_count": 0,
      "outputs": []
    },
    {
      "cell_type": "code",
      "metadata": {
        "trusted": true,
        "id": "SXV38vqCnDeA",
        "colab_type": "code",
        "colab": {}
      },
      "source": [
        "data11 = pd.merge(data11,data11_piv,on='ID',how='left')"
      ],
      "execution_count": 0,
      "outputs": []
    },
    {
      "cell_type": "code",
      "metadata": {
        "trusted": true,
        "id": "Du4dLdyfnDeC",
        "colab_type": "code",
        "colab": {}
      },
      "source": [
        "m = data1.isnull().sum()\n",
        "sum(m[m>0])"
      ],
      "execution_count": 0,
      "outputs": []
    },
    {
      "cell_type": "code",
      "metadata": {
        "trusted": true,
        "id": "D65TOOg8nDeE",
        "colab_type": "code",
        "colab": {}
      },
      "source": [
        "data11.head()"
      ],
      "execution_count": 0,
      "outputs": []
    },
    {
      "cell_type": "code",
      "metadata": {
        "id": "aiAM7WA3HhtR",
        "trusted": true,
        "colab_type": "code",
        "colab": {}
      },
      "source": [
        "data2.drop(features,1,inplace=True)"
      ],
      "execution_count": 0,
      "outputs": []
    },
    {
      "cell_type": "code",
      "metadata": {
        "trusted": true,
        "id": "jFlOZI75nDeH",
        "colab_type": "code",
        "colab": {}
      },
      "source": [
        "data2"
      ],
      "execution_count": 0,
      "outputs": []
    },
    {
      "cell_type": "code",
      "metadata": {
        "trusted": true,
        "id": "TzKMLGREnDeJ",
        "colab_type": "code",
        "colab": {}
      },
      "source": [
        "data1['ID'] = data['ID']\n",
        "data1['target'] = data['target']\n",
        "data1['location'] = data['location']"
      ],
      "execution_count": 0,
      "outputs": []
    },
    {
      "cell_type": "code",
      "metadata": {
        "trusted": true,
        "id": "4hlTnqkwnDeK",
        "colab_type": "code",
        "colab": {}
      },
      "source": [
        "data1.head()"
      ],
      "execution_count": 0,
      "outputs": []
    },
    {
      "cell_type": "code",
      "metadata": {
        "trusted": true,
        "id": "53nZZvVfnDeM",
        "colab_type": "code",
        "colab": {}
      },
      "source": [
        "data1.shape"
      ],
      "execution_count": 0,
      "outputs": []
    },
    {
      "cell_type": "code",
      "metadata": {
        "trusted": true,
        "id": "t-3S4WYRnDeO",
        "colab_type": "code",
        "colab": {}
      },
      "source": [
        "# data1 = pd.merge(data1,data11,on='ID',how='inner')\n",
        "# data1.shape"
      ],
      "execution_count": 0,
      "outputs": []
    },
    {
      "cell_type": "code",
      "metadata": {
        "id": "b-inscoEHhtU",
        "trusted": true,
        "colab_type": "code",
        "colab": {}
      },
      "source": [
        "train=data1[data1.target.notnull()].reset_index(drop=True)\n",
        "test=data1[data1.target.isna()].reset_index(drop=True)"
      ],
      "execution_count": 0,
      "outputs": []
    },
    {
      "cell_type": "code",
      "metadata": {
        "trusted": true,
        "id": "cSDLwzdBnDeR",
        "colab_type": "code",
        "colab": {}
      },
      "source": [
        "train1=data2[data2.target.notnull()].reset_index(drop=True)\n",
        "test1=data2[data2.target.isna()].reset_index(drop=True)"
      ],
      "execution_count": 0,
      "outputs": []
    },
    {
      "cell_type": "code",
      "metadata": {
        "id": "j5JqDT3SHhtY",
        "trusted": true,
        "colab_type": "code",
        "colab": {}
      },
      "source": [
        "del data,data1,data2\n",
        "gc.collect()"
      ],
      "execution_count": 0,
      "outputs": []
    },
    {
      "cell_type": "code",
      "metadata": {
        "id": "h_m0qW-3Hhtb",
        "trusted": true,
        "colab_type": "code",
        "colab": {}
      },
      "source": [
        "train.head()"
      ],
      "execution_count": 0,
      "outputs": []
    },
    {
      "cell_type": "code",
      "metadata": {
        "id": "Ycw-LMZvHhtf",
        "trusted": true,
        "colab_type": "code",
        "colab": {}
      },
      "source": [
        "train1.drop(['ID','location','target'],axis=1,inplace=True)\n",
        "test1.drop(['ID','location','target'],axis=1,inplace=True)"
      ],
      "execution_count": 0,
      "outputs": []
    },
    {
      "cell_type": "code",
      "metadata": {
        "trusted": true,
        "id": "3Wp03kuLnDea",
        "colab_type": "code",
        "colab": {}
      },
      "source": [
        "train.shape,test.shape"
      ],
      "execution_count": 0,
      "outputs": []
    },
    {
      "cell_type": "code",
      "metadata": {
        "trusted": true,
        "id": "e2fukqsAnDec",
        "colab_type": "code",
        "colab": {}
      },
      "source": [
        "train = pd.concat([train,train1],axis=1)\n",
        "test = pd.concat([test,test1],axis=1)\n",
        "train.shape,test.shape"
      ],
      "execution_count": 0,
      "outputs": []
    },
    {
      "cell_type": "code",
      "metadata": {
        "id": "rXICDSaMHhtk",
        "trusted": true,
        "colab_type": "code",
        "colab": {}
      },
      "source": [
        "Experiment_name=\"simple_model\""
      ],
      "execution_count": 0,
      "outputs": []
    },
    {
      "cell_type": "code",
      "metadata": {
        "trusted": true,
        "id": "HIM-oxjJnDef",
        "colab_type": "code",
        "colab": {}
      },
      "source": [
        "train_id = train['ID']\n",
        "test_id = test['ID']\n",
        "y = train['target']"
      ],
      "execution_count": 0,
      "outputs": []
    },
    {
      "cell_type": "code",
      "metadata": {
        "trusted": true,
        "id": "DewPn3Y0nDeh",
        "colab_type": "code",
        "colab": {}
      },
      "source": [
        "#train.drop(['ID','target'],axis=1,inplace=True)\n",
        "#test.drop(['ID','target'],axis=1,inplace=True)"
      ],
      "execution_count": 0,
      "outputs": []
    },
    {
      "cell_type": "code",
      "metadata": {
        "trusted": false,
        "id": "BTt2Fet-nDei",
        "colab_type": "code",
        "colab": {}
      },
      "source": [
        "# from sklearn.preprocessing import LabelEncoder\n",
        "# lab  = LabelEncoder()\n",
        "# lab.fit(train[\"location\"])\n",
        "\n",
        "# train.location  = lab.transform(train.location)\n",
        "# test.location  = lab.transform(test.location)"
      ],
      "execution_count": 0,
      "outputs": []
    },
    {
      "cell_type": "code",
      "metadata": {
        "trusted": true,
        "id": "Zw0z2yR1nDej",
        "colab_type": "code",
        "colab": {}
      },
      "source": [
        "import category_encoders as ce\n",
        "encoder = ce.CatBoostEncoder(cols=[\"location\"])\n",
        "encoder.fit(train, y)\n",
        "train = encoder.transform(train)\n",
        "test = encoder.transform(test)"
      ],
      "execution_count": 0,
      "outputs": []
    },
    {
      "cell_type": "code",
      "metadata": {
        "trusted": true,
        "id": "kF4AcdjknDel",
        "colab_type": "code",
        "colab": {}
      },
      "source": [
        "train.shape,test.shape"
      ],
      "execution_count": 0,
      "outputs": []
    },
    {
      "cell_type": "code",
      "metadata": {
        "trusted": true,
        "id": "V1guD8gFnDeo",
        "colab_type": "code",
        "colab": {}
      },
      "source": [
        "X  = train.copy()"
      ],
      "execution_count": 0,
      "outputs": []
    },
    {
      "cell_type": "code",
      "metadata": {
        "trusted": true,
        "id": "kNMjT4HpnDer",
        "colab_type": "code",
        "colab": {}
      },
      "source": [
        "X['ID'] = train_id\n",
        "test['ID'] = test_id\n",
        "X['target'] = y"
      ],
      "execution_count": 0,
      "outputs": []
    },
    {
      "cell_type": "code",
      "metadata": {
        "trusted": true,
        "id": "Zi6-JGMfnDes",
        "colab_type": "code",
        "colab": {}
      },
      "source": [
        "X.to_csv('train_df.csv',index=False)\n",
        "test.to_csv('test_df.csv',index=False)"
      ],
      "execution_count": 0,
      "outputs": []
    },
    {
      "cell_type": "markdown",
      "metadata": {
        "id": "ra9AQc3gnDeu",
        "colab_type": "text"
      },
      "source": [
        "## **PART 2  // THIS PART WILL TAKE AROUND 2H++**"
      ]
    },
    {
      "cell_type": "code",
      "metadata": {
        "trusted": true,
        "id": "dfEXW7S9nDeu",
        "colab_type": "code",
        "colab": {}
      },
      "source": [
        "import pandas as pd\n",
        "import numpy as np\n",
        "import matplotlib.pyplot as plt\n",
        "import seaborn as sns\n",
        "import warnings\n",
        "warnings.filterwarnings('ignore')\n",
        "\n",
        "from math import sqrt \n",
        "import lightgbm as lgb\n",
        "from sklearn.metrics import mean_squared_error \n",
        "from sklearn.model_selection import KFold, train_test_split\n",
        "\n",
        "\n",
        "from scipy.sparse import csr_matrix\n",
        "import gc\n",
        "\n",
        "import pandas as pd\n",
        "import numpy as np\n",
        "import matplotlib.pyplot as plt\n",
        "import seaborn as sns\n",
        "from xgboost import XGBRegressor\n",
        "from catboost import CatBoostRegressor\n",
        "from lightgbm import LGBMRegressor\n",
        "from sklearn.ensemble import GradientBoostingRegressor,RandomForestRegressor,BaggingRegressor,AdaBoostRegressor,ExtraTreesRegressor\n",
        "from sklearn.tree import DecisionTreeRegressor\n",
        "from sklearn.linear_model import LinearRegression\n",
        "from sklearn.ensemble import StackingRegressor\n",
        "#from ngboost import NGBRegressor\n",
        "from sklearn.metrics import mean_squared_log_error\n",
        "from sklearn.preprocessing import LabelEncoder\n",
        "from sklearn.model_selection import KFold,StratifiedKFold, GroupKFold\n",
        "import datetime\n",
        "from statsmodels.graphics.tsaplots import plot_acf, plot_pacf\n",
        "# from fastai.tabular import *\n",
        "import warnings\n",
        "from tqdm import *\n",
        "warnings.filterwarnings(\"ignore\")\n",
        "np.random.seed(0)\n",
        "pd.set_option('display.max_rows', 500)\n",
        "pd.set_option('display.max_columns', 500)\n",
        "pd.set_option('display.width', 1000)"
      ],
      "execution_count": 0,
      "outputs": []
    },
    {
      "cell_type": "code",
      "metadata": {
        "trusted": true,
        "id": "HmZwAO-9nDex",
        "colab_type": "code",
        "colab": {}
      },
      "source": [
        "# Memory reduction helper function:\n",
        "def reduce_mem_usage(df, verbose=True):\n",
        "    numerics = ['int16', 'int32', 'int64', 'float16', 'float32', 'float64']\n",
        "    start_mem = df.memory_usage().sum() / 1024**2    \n",
        "    for col in df.columns: #columns\n",
        "        col_type = df[col].dtypes\n",
        "        if col_type in numerics: #numerics\n",
        "            c_min = df[col].min()\n",
        "            c_max = df[col].max()\n",
        "            if str(col_type)[:3] == 'int':\n",
        "                if c_min > np.iinfo(np.int8).min and c_max < np.iinfo(np.int8).max:\n",
        "                    df[col] = df[col].astype(np.int8)\n",
        "                elif c_min > np.iinfo(np.int16).min and c_max < np.iinfo(np.int16).max:\n",
        "                    df[col] = df[col].astype(np.int16)\n",
        "                elif c_min > np.iinfo(np.int32).min and c_max < np.iinfo(np.int32).max:\n",
        "                    df[col] = df[col].astype(np.int32)\n",
        "                elif c_min > np.iinfo(np.int64).min and c_max < np.iinfo(np.int64).max:\n",
        "                    df[col] = df[col].astype(np.int64)  \n",
        "            else:\n",
        "                if c_min > np.finfo(np.float16).min and c_max < np.finfo(np.float16).max:\n",
        "                    df[col] = df[col].astype(np.float16)\n",
        "                elif c_min > np.finfo(np.float32).min and c_max < np.finfo(np.float32).max:\n",
        "                    df[col] = df[col].astype(np.float32)\n",
        "                else:\n",
        "                    df[col] = df[col].astype(np.float64)    \n",
        "    end_mem = df.memory_usage().sum() / 1024**2\n",
        "    if verbose: print('Mem. usage decreased to {:5.2f} Mb ({:.1f}% reduction)'.format(end_mem, 100 * (start_mem - end_mem) / start_mem))\n",
        "    return df"
      ],
      "execution_count": 0,
      "outputs": []
    },
    {
      "cell_type": "code",
      "metadata": {
        "trusted": true,
        "id": "XAJLlciBnDey",
        "colab_type": "code",
        "colab": {}
      },
      "source": [
        "train =X\n",
        "test=test.drop('target',1)\n",
        "train.shape,test.shape"
      ],
      "execution_count": 0,
      "outputs": []
    },
    {
      "cell_type": "code",
      "metadata": {
        "trusted": true,
        "id": "4XpTRUoQnDez",
        "colab_type": "code",
        "colab": {}
      },
      "source": [
        "train = reduce_mem_usage(train)\n",
        "test = reduce_mem_usage(test)"
      ],
      "execution_count": 0,
      "outputs": []
    },
    {
      "cell_type": "code",
      "metadata": {
        "trusted": true,
        "id": "HVykT3F9nDe2",
        "colab_type": "code",
        "colab": {}
      },
      "source": [
        "temp = [\"temp{}\".format(i) for i in range(121)]\n",
        "precip = [\"precip{}\".format(i) for i in range(121)]\n",
        "rel_humidity = [\"rel_humidity{}\".format(i) for i in range(121)]\n",
        "wind_dir = [\"wind_dir{}\".format(i) for i in range(121)]\n",
        "wind_spd = [\"wind_spd{}\".format(i) for i in range(121)]\n",
        "atmos_press = [\"atmos_press{}\".format(i) for i in range(121)]"
      ],
      "execution_count": 0,
      "outputs": []
    },
    {
      "cell_type": "code",
      "metadata": {
        "trusted": true,
        "id": "U08Kp65bnDe3",
        "colab_type": "code",
        "colab": {}
      },
      "source": [
        "rem_org = list(set(test.columns) - set(temp+precip+rel_humidity+wind_dir+wind_spd+atmos_press))\n",
        "len(rem_org)"
      ],
      "execution_count": 0,
      "outputs": []
    },
    {
      "cell_type": "code",
      "metadata": {
        "trusted": true,
        "id": "Nk4bL20MnDe5",
        "colab_type": "code",
        "colab": {}
      },
      "source": [
        "import re\n",
        "def fun(x):\n",
        "    return int(re.findall(r'\\d+', x)[0])"
      ],
      "execution_count": 0,
      "outputs": []
    },
    {
      "cell_type": "code",
      "metadata": {
        "trusted": true,
        "id": "hzy9rVzCnDe6",
        "colab_type": "code",
        "colab": {}
      },
      "source": [
        "l = ['precip','rel_humidity','wind_dir','wind_spd','atmos_press']"
      ],
      "execution_count": 0,
      "outputs": []
    },
    {
      "cell_type": "code",
      "metadata": {
        "trusted": true,
        "id": "P0sg2E8xnDe7",
        "colab_type": "code",
        "colab": {}
      },
      "source": [
        "data  =  train[['ID']+temp]\n",
        "data = data.melt(id_vars=[\"ID\"],var_name=\"d\", value_name='temp')\n",
        "data['d'] = data['d'].apply(fun)\n",
        "for n,i in enumerate([precip,rel_humidity,wind_dir,wind_spd,atmos_press]):\n",
        "    data1  =  train[['ID']+i]\n",
        "    data1 = data1.melt(id_vars=[\"ID\"],var_name=\"d\", value_name=l[n])\n",
        "    data1['d'] = data1['d'].apply(fun)\n",
        "    data = pd.merge(data,data1,on=['ID','d'],how='inner')\n",
        "    print('*'*8,n)"
      ],
      "execution_count": 0,
      "outputs": []
    },
    {
      "cell_type": "code",
      "metadata": {
        "trusted": true,
        "id": "npYQ54HpnDe8",
        "colab_type": "code",
        "colab": {}
      },
      "source": [
        "data_t  =  test[['ID']+temp]\n",
        "data_t = data_t.melt(id_vars=[\"ID\"],var_name=\"d\", value_name='temp')\n",
        "data_t['d'] = data_t['d'].apply(fun)\n",
        "for n,i in enumerate([precip,rel_humidity,wind_dir,wind_spd,atmos_press]):\n",
        "    data1  =  test[['ID']+i]\n",
        "    data1 = data1.melt(id_vars=[\"ID\"],var_name=\"d\", value_name=l[n])\n",
        "    data1['d'] = data1['d'].apply(fun)\n",
        "    data_t = pd.merge(data_t,data1,on=['ID','d'],how='inner')\n",
        "    print('*'*8,n)"
      ],
      "execution_count": 0,
      "outputs": []
    },
    {
      "cell_type": "code",
      "metadata": {
        "trusted": true,
        "id": "phNrAka9nDe-",
        "colab_type": "code",
        "colab": {}
      },
      "source": [
        "data['train'] = True\n",
        "data_t['train'] = False\n",
        "\n",
        "data = pd.concat([data,data_t])\n",
        "data.reset_index(drop=True,inplace=True)\n",
        "data['train'].value_counts()"
      ],
      "execution_count": 0,
      "outputs": []
    },
    {
      "cell_type": "code",
      "metadata": {
        "trusted": true,
        "id": "75YPN5stnDe_",
        "colab_type": "code",
        "colab": {}
      },
      "source": [
        "data.head()"
      ],
      "execution_count": 0,
      "outputs": []
    },
    {
      "cell_type": "code",
      "metadata": {
        "trusted": true,
        "id": "XiPKBJUWnDfA",
        "colab_type": "code",
        "colab": {}
      },
      "source": [
        "def roll1(h):\n",
        "    if h <= 24:\n",
        "        return('day1')\n",
        "    elif (h>24) and (h<=48):\n",
        "        return('day2')\n",
        "    elif (h>48) and (h<=72):\n",
        "        return('day3')\n",
        "    elif (h>72) and (h<=96):\n",
        "        return('day4')\n",
        "    elif (h>96) and (h<=120):\n",
        "        return('day5')\n",
        "    \n",
        "    \n",
        "def roll2(h):\n",
        "    if (h <= 6) or ((h-24)>0 and (h-24)<=6)or ((h-24*2)>0 and (h-24*2)<=6)or ((h-24*3)>0 and (h-24*3)<=6)or ((h-24*4)>0 and (h-24*4)<=6):\n",
        "        return('Morning')\n",
        "    elif (h <= 12) or ((h-24)>0 and (h-24)<=12)or ((h-24*2)>0 and (h-24*2)<=12)or ((h-24*3)>0 and (h-24*3)<=12)or ((h-24*4)>0 and (h-24*4)<=12):\n",
        "        return('Noon')\n",
        "    elif (h <= 18) or ((h-24)>0 and (h-24)<=18)or ((h-24*2)>0 and (h-24*2)<=18)or ((h-24*3)>0 and (h-24*3)<=18)or ((h-24*4)>0 and (h-24*4)<=18):\n",
        "        return('Evening')\n",
        "    else:\n",
        "        return('Night')\n",
        "    \n",
        "def roll3(h):\n",
        "    if (h <= 3) or ((h-24)>0 and (h-24)<=3)or ((h-24*2)>0 and (h-24*2)<=3)or ((h-24*3)>0 and (h-24*3)<=3)or ((h-24*4)>0 and (h-24*4)<=3):\n",
        "        return('Mor1')\n",
        "    elif (h <= 6) or ((h-24)>0 and (h-24)<=6)or ((h-24*2)>0 and (h-24*2)<=6)or ((h-24*3)>0 and (h-24*3)<=6)or ((h-24*4)>0 and (h-24*4)<=6):\n",
        "        return('Mor2')\n",
        "    elif (h <= 9) or ((h-24)>0 and (h-24)<=9)or ((h-24*2)>0 and (h-24*2)<=9)or ((h-24*3)>0 and (h-24*3)<=9)or ((h-24*4)>0 and (h-24*4)<=9):\n",
        "        return('Noo1')\n",
        "    elif (h <= 12) or ((h-24)>0 and (h-24)<=12)or ((h-24*2)>0 and (h-24*2)<=12)or ((h-24*3)>0 and (h-24*3)<=12)or ((h-24*4)>0 and (h-24*4)<=12):\n",
        "        return('Noo2')\n",
        "    elif (h <= 15) or ((h-24)>0 and (h-24)<=15)or ((h-24*2)>0 and (h-24*2)<=15)or ((h-24*3)>0 and (h-24*3)<=15)or ((h-24*4)>0 and (h-24*4)<=15):\n",
        "        return('Eve1')\n",
        "    elif (h <= 18) or ((h-24)>0 and (h-24)<=18)or ((h-24*2)>0 and (h-24*2)<=18)or ((h-24*3)>0 and (h-24*3)<=18)or ((h-24*4)>0 and (h-24*4)<=18):\n",
        "        return('Eve2')\n",
        "    elif (h <= 21) or ((h-24)>0 and (h-24)<=21)or ((h-24*2)>0 and (h-24*2)<=21)or ((h-24*3)>0 and (h-24*3)<=21)or ((h-24*4)>0 and (h-24*4)<=21):\n",
        "        return('Nig1')\n",
        "    else:\n",
        "        return('Nig2')\n",
        "\n",
        "def roll4(h):\n",
        "    if (h <= 8) or ((h-24)>0 and (h-24)<=8)or ((h-24*2)>0 and (h-24*2)<=8)or ((h-24*3)>0 and (h-24*3)<=8)or ((h-24*4)>0 and (h-24*4)<=8):\n",
        "        return('First')\n",
        "    elif (h <= 16) or ((h-24)>0 and (h-24)<=16)or ((h-24*2)>0 and (h-24*2)<=16)or ((h-24*3)>0 and (h-24*3)<=16)or ((h-24*4)>0 and (h-24*4)<=16):\n",
        "        return('Second')\n",
        "    else:\n",
        "        return('Third')\n",
        "    \n",
        "def roll5(h):\n",
        "    if (h <= 12) or ((h-24)>0 and (h-24)<=12)or ((h-24*2)>0 and (h-24*2)<=12)or ((h-24*3)>0 and (h-24*3)<=12)or ((h-24*4)>0 and (h-24*4)<=12):\n",
        "        return('F_half')\n",
        "    else:\n",
        "        return('S_half')"
      ],
      "execution_count": 0,
      "outputs": []
    },
    {
      "cell_type": "code",
      "metadata": {
        "trusted": true,
        "id": "HUtseFywnDfB",
        "colab_type": "code",
        "colab": {}
      },
      "source": [
        "data['type_of_day3'] = data['d'].apply(roll5)\n",
        "data['type_of_day2'] = data['d'].apply(roll4)\n",
        "data['type_of_day1'] = data['d'].apply(roll3)\n",
        "data['type_of_day'] = data['d'].apply(roll2)\n",
        "data['day'] = data['d'].apply(roll1)"
      ],
      "execution_count": 0,
      "outputs": []
    },
    {
      "cell_type": "code",
      "metadata": {
        "trusted": true,
        "id": "W5n5GQWMnDfC",
        "colab_type": "code",
        "colab": {}
      },
      "source": [
        "data.groupby(['train','day','type_of_day3']).count()['temp']"
      ],
      "execution_count": 0,
      "outputs": []
    },
    {
      "cell_type": "code",
      "metadata": {
        "trusted": true,
        "id": "2mX5kNPvnDfG",
        "colab_type": "code",
        "colab": {}
      },
      "source": [
        "data[(data['train'] == True) & (data['day'] == 'day5') & (data['type_of_day'] == 'Morning')].groupby('d').count()['temp']"
      ],
      "execution_count": 0,
      "outputs": []
    },
    {
      "cell_type": "code",
      "metadata": {
        "trusted": true,
        "id": "U3fivT72nDfH",
        "colab_type": "code",
        "colab": {}
      },
      "source": [
        "data = reduce_mem_usage(data)"
      ],
      "execution_count": 0,
      "outputs": []
    },
    {
      "cell_type": "code",
      "metadata": {
        "trusted": true,
        "id": "h2QQZFk7nDfI",
        "colab_type": "code",
        "colab": {}
      },
      "source": [
        "def percentile(n) :\n",
        "    def percentile_(x) : \n",
        "        return np.percentile(x, n)\n",
        "    percentile_.__name__ = 'percentile_%s' % n\n",
        "    return percentile_"
      ],
      "execution_count": 0,
      "outputs": []
    },
    {
      "cell_type": "code",
      "metadata": {
        "trusted": true,
        "id": "beNOLTNVnDfK",
        "colab_type": "code",
        "colab": {}
      },
      "source": [
        "%%time\n",
        "grp_data1 = data.drop(['d','train'],axis=1).groupby(['ID','day']).agg(['mean','max','min','std',percentile(1),percentile(5),percentile(10),percentile(20)\n",
        "                                                              ,percentile(30),percentile(40),percentile(50),percentile(60),percentile(70),percentile(80)\n",
        "                                                              ,percentile(90),percentile(95),percentile(99)])\n",
        "\n",
        "grp_data1.columns = ['_'.join(col).strip() for col in grp_data1.columns.values]\n",
        "grp_data1.reset_index(inplace = True)"
      ],
      "execution_count": 0,
      "outputs": []
    },
    {
      "cell_type": "code",
      "metadata": {
        "trusted": true,
        "id": "yCdrAS4hnDfL",
        "colab_type": "code",
        "colab": {}
      },
      "source": [
        "grp_data1.head()"
      ],
      "execution_count": 0,
      "outputs": []
    },
    {
      "cell_type": "code",
      "metadata": {
        "trusted": true,
        "id": "ntdn73R5nDfM",
        "colab_type": "code",
        "colab": {}
      },
      "source": [
        "%%time\n",
        "grp_data2 = data.drop(['d','train'],axis=1).groupby(['ID','type_of_day']).agg(['mean','max','min','std',percentile(1),percentile(5),percentile(10),percentile(20)\n",
        "                                                              ,percentile(30),percentile(40),percentile(50),percentile(60),percentile(70),percentile(80)\n",
        "                                                              ,percentile(90),percentile(95),percentile(99)])\n",
        "\n",
        "grp_data2.columns = ['_'.join(col).strip() for col in grp_data2.columns.values]\n",
        "grp_data2.reset_index(inplace=True)"
      ],
      "execution_count": 0,
      "outputs": []
    },
    {
      "cell_type": "code",
      "metadata": {
        "trusted": true,
        "id": "d2JYuFCznDfO",
        "colab_type": "code",
        "colab": {}
      },
      "source": [
        "grp_data2.head()"
      ],
      "execution_count": 0,
      "outputs": []
    },
    {
      "cell_type": "code",
      "metadata": {
        "trusted": true,
        "id": "x_9ql5MInDfQ",
        "colab_type": "code",
        "colab": {}
      },
      "source": [
        "%%time\n",
        "#data['day_type_of_day'] = data['day']+ '_' + data['type_of_day']\n",
        "\n",
        "\n",
        "grp_data3 = data.drop(['d','train'],axis=1).groupby(['ID','type_of_day1']).agg(['mean','max','min','std',percentile(1),percentile(5),percentile(10),percentile(20)\n",
        "                                                              ,percentile(30),percentile(40),percentile(50),percentile(60),percentile(70),percentile(80)\n",
        "                                                              ,percentile(90),percentile(95),percentile(99)])\n",
        "\n",
        "grp_data3.columns = ['_'.join(col).strip() for col in grp_data3.columns.values]\n",
        "grp_data3.reset_index(inplace=True)"
      ],
      "execution_count": 0,
      "outputs": []
    },
    {
      "cell_type": "code",
      "metadata": {
        "trusted": true,
        "id": "jaqnN8nTnDfR",
        "colab_type": "code",
        "colab": {}
      },
      "source": [
        "grp_data3.shape"
      ],
      "execution_count": 0,
      "outputs": []
    },
    {
      "cell_type": "code",
      "metadata": {
        "trusted": true,
        "id": "5eQJvsYZnDfS",
        "colab_type": "code",
        "colab": {}
      },
      "source": [
        "%%time\n",
        "grp_data4 = data.drop(['d','train'],axis=1).groupby(['ID','type_of_day2']).agg(['mean','max','min','std',percentile(1),percentile(5),percentile(10),percentile(20)\n",
        "                                                              ,percentile(30),percentile(40),percentile(50),percentile(60),percentile(70),percentile(80)\n",
        "                                                              ,percentile(90),percentile(95),percentile(99)])\n",
        "\n",
        "grp_data4.columns = ['_'.join(col).strip() for col in grp_data4.columns.values]\n",
        "grp_data4.reset_index(inplace=True)"
      ],
      "execution_count": 0,
      "outputs": []
    },
    {
      "cell_type": "code",
      "metadata": {
        "trusted": true,
        "id": "mlyp-_ZnnDfT",
        "colab_type": "code",
        "colab": {}
      },
      "source": [
        "grp_data4.shape"
      ],
      "execution_count": 0,
      "outputs": []
    },
    {
      "cell_type": "code",
      "metadata": {
        "trusted": true,
        "id": "a9-Lzf8UnDfU",
        "colab_type": "code",
        "colab": {}
      },
      "source": [
        "%%time\n",
        "#data['day_type_of_day1'] = data['day']+ '_' + data['type_of_day1']\n",
        "\n",
        "\n",
        "grp_data5 = data.drop(['d','train'],axis=1).groupby(['ID','type_of_day3']).agg(['mean','max','min','std',percentile(1),percentile(5),percentile(10),percentile(20)\n",
        "                                                              ,percentile(30),percentile(40),percentile(50),percentile(60),percentile(70),percentile(80)\n",
        "                                                              ,percentile(90),percentile(95),percentile(99)])\n",
        "\n",
        "grp_data5.columns = ['_'.join(col).strip() for col in grp_data5.columns.values]\n",
        "grp_data5.reset_index(inplace=True)"
      ],
      "execution_count": 0,
      "outputs": []
    },
    {
      "cell_type": "code",
      "metadata": {
        "trusted": true,
        "id": "Ox43UwZmnDfW",
        "colab_type": "code",
        "colab": {}
      },
      "source": [
        "grp_data5.shape"
      ],
      "execution_count": 0,
      "outputs": []
    },
    {
      "cell_type": "code",
      "metadata": {
        "trusted": true,
        "id": "muiCFc8enDfZ",
        "colab_type": "code",
        "colab": {}
      },
      "source": [
        "grp_data5"
      ],
      "execution_count": 0,
      "outputs": []
    },
    {
      "cell_type": "code",
      "metadata": {
        "trusted": true,
        "id": "mpICUUQenDfb",
        "colab_type": "code",
        "colab": {}
      },
      "source": [
        "grp_data11 = pd.pivot_table(data = grp_data1,index='ID',columns = 'day',values = 'temp_mean')\n",
        "grp_data11.columns = ['temp_mean'+ i for i in grp_data11.columns]\n",
        "grp_data11.reset_index(inplace=True)\n",
        "for i in tqdm(grp_data1.drop(['ID','day','temp_mean'],axis=1).columns):\n",
        "    temp = pd.pivot_table(data = grp_data1,index='ID',columns = 'day',values = i)\n",
        "    temp.columns = [i+ j for j in temp.columns]\n",
        "    temp.reset_index(inplace=True)\n",
        "    grp_data11 = pd.merge(grp_data11,temp,on='ID',how='left')"
      ],
      "execution_count": 0,
      "outputs": []
    },
    {
      "cell_type": "code",
      "metadata": {
        "trusted": true,
        "id": "9DBVhIuLnDfd",
        "colab_type": "code",
        "colab": {}
      },
      "source": [
        "grp_data11_col = list(grp_data11.columns)"
      ],
      "execution_count": 0,
      "outputs": []
    },
    {
      "cell_type": "code",
      "metadata": {
        "trusted": true,
        "id": "UMXdBe5VnDfe",
        "colab_type": "code",
        "colab": {}
      },
      "source": [
        "grp_data21 = pd.pivot_table(data = grp_data2,index='ID',columns = 'type_of_day',values = 'temp_mean')\n",
        "grp_data21.columns = ['temp_mean'+ i for i in grp_data21.columns]\n",
        "grp_data21.reset_index(inplace=True)\n",
        "for i in tqdm(grp_data2.drop(['ID','type_of_day','temp_mean'],axis=1).columns):\n",
        "    temp = pd.pivot_table(data = grp_data2,index='ID',columns = 'type_of_day',values = i)\n",
        "    temp.columns = [i+ j for j in temp.columns]\n",
        "    temp.reset_index(inplace=True)\n",
        "    grp_data21 = pd.merge(grp_data21,temp,on='ID',how='left')"
      ],
      "execution_count": 0,
      "outputs": []
    },
    {
      "cell_type": "code",
      "metadata": {
        "trusted": true,
        "id": "otD9qfeVnDff",
        "colab_type": "code",
        "colab": {}
      },
      "source": [
        "grp_data21_col = list(grp_data21.columns)"
      ],
      "execution_count": 0,
      "outputs": []
    },
    {
      "cell_type": "code",
      "metadata": {
        "trusted": true,
        "id": "cEsFR3afnDfg",
        "colab_type": "code",
        "colab": {}
      },
      "source": [
        "grp_data31 = pd.pivot_table(data = grp_data3,index='ID',columns = 'type_of_day1',values = 'temp_mean')\n",
        "grp_data31.columns = ['temp_mean'+ i for i in grp_data31.columns]\n",
        "grp_data31.reset_index(inplace=True)\n",
        "for i in tqdm(grp_data3.drop(['ID','type_of_day1','temp_mean'],axis=1).columns):\n",
        "    temp = pd.pivot_table(data = grp_data3,index='ID',columns = 'type_of_day1',values = i)\n",
        "    temp.columns = [i+ j for j in temp.columns]\n",
        "    temp.reset_index(inplace=True)\n",
        "    grp_data31 = pd.merge(grp_data31,temp,on='ID',how='left')"
      ],
      "execution_count": 0,
      "outputs": []
    },
    {
      "cell_type": "code",
      "metadata": {
        "trusted": true,
        "id": "kNik__8AnDfi",
        "colab_type": "code",
        "colab": {}
      },
      "source": [
        "grp_data31_col = list(grp_data31.columns)"
      ],
      "execution_count": 0,
      "outputs": []
    },
    {
      "cell_type": "code",
      "metadata": {
        "trusted": true,
        "id": "e5upctQonDfj",
        "colab_type": "code",
        "colab": {}
      },
      "source": [
        "grp_data41 = pd.pivot_table(data = grp_data4,index='ID',columns = 'type_of_day2',values = 'temp_mean')\n",
        "grp_data41.columns = ['temp_mean'+ i for i in grp_data41.columns]\n",
        "grp_data41.reset_index(inplace=True)\n",
        "for i in tqdm(grp_data4.drop(['ID','type_of_day2','temp_mean'],axis=1).columns):\n",
        "    temp = pd.pivot_table(data = grp_data4,index='ID',columns = 'type_of_day2',values = i)\n",
        "    temp.columns = [i+ j for j in temp.columns]\n",
        "    temp.reset_index(inplace=True)\n",
        "    grp_data41 = pd.merge(grp_data41,temp,on='ID',how='left')\n",
        "    "
      ],
      "execution_count": 0,
      "outputs": []
    },
    {
      "cell_type": "code",
      "metadata": {
        "trusted": true,
        "id": "56CMRr_unDfk",
        "colab_type": "code",
        "colab": {}
      },
      "source": [
        "grp_data41_col = list(grp_data41.columns)"
      ],
      "execution_count": 0,
      "outputs": []
    },
    {
      "cell_type": "code",
      "metadata": {
        "trusted": true,
        "id": "4wXi_1_anDfl",
        "colab_type": "code",
        "colab": {}
      },
      "source": [
        "grp_data51 = pd.pivot_table(data = grp_data5,index='ID',columns = 'type_of_day3',values = 'temp_mean')\n",
        "grp_data51.columns = ['temp_mean'+ i for i in grp_data51.columns]\n",
        "grp_data51.reset_index(inplace=True)\n",
        "for i in tqdm(grp_data5.drop(['ID','type_of_day3','temp_mean'],axis=1).columns):\n",
        "    temp = pd.pivot_table(data = grp_data5,index='ID',columns = 'type_of_day3',values = i)\n",
        "    temp.columns = [i+ j for j in temp.columns]\n",
        "    temp.reset_index(inplace=True)\n",
        "    grp_data51 = pd.merge(grp_data51,temp,on='ID',how='left')\n",
        "    "
      ],
      "execution_count": 0,
      "outputs": []
    },
    {
      "cell_type": "code",
      "metadata": {
        "trusted": true,
        "id": "Yf3BFI8bnDfm",
        "colab_type": "code",
        "colab": {}
      },
      "source": [
        "grp_data51_col = list(grp_data51.columns)"
      ],
      "execution_count": 0,
      "outputs": []
    },
    {
      "cell_type": "code",
      "metadata": {
        "trusted": true,
        "id": "p6hV54JvnDfo",
        "colab_type": "code",
        "colab": {}
      },
      "source": [
        "grp_data_all = pd.merge(grp_data11,grp_data21,on='ID')\n",
        "grp_data_all = pd.merge(grp_data_all,grp_data31,on='ID')\n",
        "grp_data_all = pd.merge(grp_data_all,grp_data41,on='ID')\n",
        "grp_data_all = pd.merge(grp_data_all,grp_data51,on='ID')\n",
        "grp_data_all.shape"
      ],
      "execution_count": 0,
      "outputs": []
    },
    {
      "cell_type": "code",
      "metadata": {
        "trusted": true,
        "id": "eYYTPQE7nDfp",
        "colab_type": "code",
        "colab": {}
      },
      "source": [
        "train_df = pd.merge(train,grp_data_all,on='ID',how='left')\n",
        "test_df = pd.merge(test,grp_data_all,on='ID',how='left')\n",
        "train_df.shape,test_df.shape,train.shape,test.shape"
      ],
      "execution_count": 0,
      "outputs": []
    },
    {
      "cell_type": "code",
      "metadata": {
        "trusted": true,
        "id": "Vo3f1vLunDfq",
        "colab_type": "code",
        "colab": {}
      },
      "source": [
        "train_df.to_csv('final_train_df.csv',index=False)\n",
        "test_df.to_csv('final_test_df.csv',index=False)"
      ],
      "execution_count": 0,
      "outputs": []
    },
    {
      "cell_type": "code",
      "metadata": {
        "trusted": true,
        "id": "oVRYGGGjnDfq",
        "colab_type": "code",
        "colab": {}
      },
      "source": [
        "pd.DataFrame(rem_org).to_csv('rem_org.csv',index=False)\n",
        "pd.DataFrame(grp_data11_col).to_csv('grp_data11_col.csv',index=False)\n",
        "pd.DataFrame(grp_data21_col).to_csv('grp_data21_col.csv',index=False)\n",
        "pd.DataFrame(grp_data31_col).to_csv('grp_data31_col.csv',index=False)\n",
        "pd.DataFrame(grp_data41_col).to_csv('grp_data41_col.csv',index=False)\n",
        "pd.DataFrame(grp_data51_col).to_csv('grp_data51_col.csv',index=False)\n"
      ],
      "execution_count": 0,
      "outputs": []
    },
    {
      "cell_type": "code",
      "metadata": {
        "trusted": true,
        "id": "adpmLxbSnDfu",
        "colab_type": "code",
        "outputId": "bfeceb2f-8f95-4b86-8ba9-6f355a888f95",
        "colab": {}
      },
      "source": [
        "train_df.shape,test_df.shape,train.shape,test.shape"
      ],
      "execution_count": 0,
      "outputs": [
        {
          "output_type": "execute_result",
          "data": {
            "text/plain": [
              "((15539, 3087), (5035, 3086), (15539, 843), (5035, 842))"
            ]
          },
          "metadata": {
            "tags": []
          },
          "execution_count": 102
        }
      ]
    }
  ]
}